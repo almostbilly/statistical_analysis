{
  "nbformat": 4,
  "nbformat_minor": 0,
  "metadata": {
    "colab": {
      "provenance": [],
      "mount_file_id": "1vwS17myul25cQYlrBUmZfRlBln3SC44B",
      "authorship_tag": "ABX9TyMo5EFxgazxfZcMt1yHTz2A",
      "include_colab_link": true
    },
    "kernelspec": {
      "name": "python3",
      "display_name": "Python 3"
    },
    "language_info": {
      "name": "python"
    }
  },
  "cells": [
    {
      "cell_type": "markdown",
      "metadata": {
        "id": "view-in-github",
        "colab_type": "text"
      },
      "source": [
        "<a href=\"https://colab.research.google.com/github/bilik49/statistical_analysis/blob/main/nonparametric.ipynb\" target=\"_parent\"><img src=\"https://colab.research.google.com/assets/colab-badge.svg\" alt=\"Open In Colab\"/></a>"
      ]
    },
    {
      "cell_type": "code",
      "execution_count": 118,
      "metadata": {
        "id": "OvIA7efayec6"
      },
      "outputs": [],
      "source": [
        "import numpy as np\n",
        "import pandas as pd\n",
        "import scipy.stats as st\n",
        "import seaborn as sns"
      ]
    },
    {
      "cell_type": "code",
      "source": [
        "df = pd.read_csv('/content/drive/MyDrive/data/statistic/data_big.csv')\n",
        "cities = pd.read_csv('/content/drive/MyDrive/data/statistic/cities.csv')"
      ],
      "metadata": {
        "id": "Kn0mhH7_ynuO"
      },
      "execution_count": 9,
      "outputs": []
    },
    {
      "cell_type": "code",
      "source": [
        "df.head()"
      ],
      "metadata": {
        "id": "9TyeyUEDzwXc",
        "outputId": "651a625d-740f-45c6-bc4d-f2b983085c60",
        "colab": {
          "base_uri": "https://localhost:8080/",
          "height": 317
        }
      },
      "execution_count": 4,
      "outputs": [
        {
          "output_type": "execute_result",
          "data": {
            "text/plain": [
              "   Unnamed: 0  X.1  depressed.mood.1  anxiety.1  suspiciousness.1  \\\n",
              "0           1    1                 1          1                 0   \n",
              "1           2    2                 1          1                 0   \n",
              "2           3    3                 1          1                 0   \n",
              "3           4    4                 2          2                 0   \n",
              "4           5    5                 1          1                 0   \n",
              "\n",
              "   irritability.1  craving.to.alcohol.1  weakness.1  insomia.1  headache.1  \\\n",
              "0               1                     1           1          1           0   \n",
              "1               0                     1           1          2           1   \n",
              "2               0                     0           2          1           0   \n",
              "3               0                     0           2          0           0   \n",
              "4               0                     2           2          1           0   \n",
              "\n",
              "   ...  combined2.9  HR.9  SBP.9  DBP.9  MBP.9   SV.9  CO.9  SI.9  CI.9  \\\n",
              "0  ...            0  68.0  108.0   70.0   83.0   74.0   5.0  40.0   2.7   \n",
              "1  ...            9  63.0  114.0   70.0   85.0  123.0   7.7  60.0   3.8   \n",
              "2  ...            0  64.0  120.0   80.0   93.0  106.0   6.8  55.0   3.5   \n",
              "3  ...            0  56.0  124.0   90.0  101.0   90.0   5.1  43.0   2.4   \n",
              "4  ...            0  66.0  116.0   78.0   90.0   90.0   5.9  45.0   2.2   \n",
              "\n",
              "    TPR.9  \n",
              "0  1321.0  \n",
              "1   879.0  \n",
              "2  1098.0  \n",
              "3  1600.0  \n",
              "4  1228.0  \n",
              "\n",
              "[5 rows x 121 columns]"
            ],
            "text/html": [
              "\n",
              "  <div id=\"df-e930c9c9-9ba9-4637-8132-475b21e169f4\">\n",
              "    <div class=\"colab-df-container\">\n",
              "      <div>\n",
              "<style scoped>\n",
              "    .dataframe tbody tr th:only-of-type {\n",
              "        vertical-align: middle;\n",
              "    }\n",
              "\n",
              "    .dataframe tbody tr th {\n",
              "        vertical-align: top;\n",
              "    }\n",
              "\n",
              "    .dataframe thead th {\n",
              "        text-align: right;\n",
              "    }\n",
              "</style>\n",
              "<table border=\"1\" class=\"dataframe\">\n",
              "  <thead>\n",
              "    <tr style=\"text-align: right;\">\n",
              "      <th></th>\n",
              "      <th>Unnamed: 0</th>\n",
              "      <th>X.1</th>\n",
              "      <th>depressed.mood.1</th>\n",
              "      <th>anxiety.1</th>\n",
              "      <th>suspiciousness.1</th>\n",
              "      <th>irritability.1</th>\n",
              "      <th>craving.to.alcohol.1</th>\n",
              "      <th>weakness.1</th>\n",
              "      <th>insomia.1</th>\n",
              "      <th>headache.1</th>\n",
              "      <th>...</th>\n",
              "      <th>combined2.9</th>\n",
              "      <th>HR.9</th>\n",
              "      <th>SBP.9</th>\n",
              "      <th>DBP.9</th>\n",
              "      <th>MBP.9</th>\n",
              "      <th>SV.9</th>\n",
              "      <th>CO.9</th>\n",
              "      <th>SI.9</th>\n",
              "      <th>CI.9</th>\n",
              "      <th>TPR.9</th>\n",
              "    </tr>\n",
              "  </thead>\n",
              "  <tbody>\n",
              "    <tr>\n",
              "      <th>0</th>\n",
              "      <td>1</td>\n",
              "      <td>1</td>\n",
              "      <td>1</td>\n",
              "      <td>1</td>\n",
              "      <td>0</td>\n",
              "      <td>1</td>\n",
              "      <td>1</td>\n",
              "      <td>1</td>\n",
              "      <td>1</td>\n",
              "      <td>0</td>\n",
              "      <td>...</td>\n",
              "      <td>0</td>\n",
              "      <td>68.0</td>\n",
              "      <td>108.0</td>\n",
              "      <td>70.0</td>\n",
              "      <td>83.0</td>\n",
              "      <td>74.0</td>\n",
              "      <td>5.0</td>\n",
              "      <td>40.0</td>\n",
              "      <td>2.7</td>\n",
              "      <td>1321.0</td>\n",
              "    </tr>\n",
              "    <tr>\n",
              "      <th>1</th>\n",
              "      <td>2</td>\n",
              "      <td>2</td>\n",
              "      <td>1</td>\n",
              "      <td>1</td>\n",
              "      <td>0</td>\n",
              "      <td>0</td>\n",
              "      <td>1</td>\n",
              "      <td>1</td>\n",
              "      <td>2</td>\n",
              "      <td>1</td>\n",
              "      <td>...</td>\n",
              "      <td>9</td>\n",
              "      <td>63.0</td>\n",
              "      <td>114.0</td>\n",
              "      <td>70.0</td>\n",
              "      <td>85.0</td>\n",
              "      <td>123.0</td>\n",
              "      <td>7.7</td>\n",
              "      <td>60.0</td>\n",
              "      <td>3.8</td>\n",
              "      <td>879.0</td>\n",
              "    </tr>\n",
              "    <tr>\n",
              "      <th>2</th>\n",
              "      <td>3</td>\n",
              "      <td>3</td>\n",
              "      <td>1</td>\n",
              "      <td>1</td>\n",
              "      <td>0</td>\n",
              "      <td>0</td>\n",
              "      <td>0</td>\n",
              "      <td>2</td>\n",
              "      <td>1</td>\n",
              "      <td>0</td>\n",
              "      <td>...</td>\n",
              "      <td>0</td>\n",
              "      <td>64.0</td>\n",
              "      <td>120.0</td>\n",
              "      <td>80.0</td>\n",
              "      <td>93.0</td>\n",
              "      <td>106.0</td>\n",
              "      <td>6.8</td>\n",
              "      <td>55.0</td>\n",
              "      <td>3.5</td>\n",
              "      <td>1098.0</td>\n",
              "    </tr>\n",
              "    <tr>\n",
              "      <th>3</th>\n",
              "      <td>4</td>\n",
              "      <td>4</td>\n",
              "      <td>2</td>\n",
              "      <td>2</td>\n",
              "      <td>0</td>\n",
              "      <td>0</td>\n",
              "      <td>0</td>\n",
              "      <td>2</td>\n",
              "      <td>0</td>\n",
              "      <td>0</td>\n",
              "      <td>...</td>\n",
              "      <td>0</td>\n",
              "      <td>56.0</td>\n",
              "      <td>124.0</td>\n",
              "      <td>90.0</td>\n",
              "      <td>101.0</td>\n",
              "      <td>90.0</td>\n",
              "      <td>5.1</td>\n",
              "      <td>43.0</td>\n",
              "      <td>2.4</td>\n",
              "      <td>1600.0</td>\n",
              "    </tr>\n",
              "    <tr>\n",
              "      <th>4</th>\n",
              "      <td>5</td>\n",
              "      <td>5</td>\n",
              "      <td>1</td>\n",
              "      <td>1</td>\n",
              "      <td>0</td>\n",
              "      <td>0</td>\n",
              "      <td>2</td>\n",
              "      <td>2</td>\n",
              "      <td>1</td>\n",
              "      <td>0</td>\n",
              "      <td>...</td>\n",
              "      <td>0</td>\n",
              "      <td>66.0</td>\n",
              "      <td>116.0</td>\n",
              "      <td>78.0</td>\n",
              "      <td>90.0</td>\n",
              "      <td>90.0</td>\n",
              "      <td>5.9</td>\n",
              "      <td>45.0</td>\n",
              "      <td>2.2</td>\n",
              "      <td>1228.0</td>\n",
              "    </tr>\n",
              "  </tbody>\n",
              "</table>\n",
              "<p>5 rows × 121 columns</p>\n",
              "</div>\n",
              "      <button class=\"colab-df-convert\" onclick=\"convertToInteractive('df-e930c9c9-9ba9-4637-8132-475b21e169f4')\"\n",
              "              title=\"Convert this dataframe to an interactive table.\"\n",
              "              style=\"display:none;\">\n",
              "        \n",
              "  <svg xmlns=\"http://www.w3.org/2000/svg\" height=\"24px\"viewBox=\"0 0 24 24\"\n",
              "       width=\"24px\">\n",
              "    <path d=\"M0 0h24v24H0V0z\" fill=\"none\"/>\n",
              "    <path d=\"M18.56 5.44l.94 2.06.94-2.06 2.06-.94-2.06-.94-.94-2.06-.94 2.06-2.06.94zm-11 1L8.5 8.5l.94-2.06 2.06-.94-2.06-.94L8.5 2.5l-.94 2.06-2.06.94zm10 10l.94 2.06.94-2.06 2.06-.94-2.06-.94-.94-2.06-.94 2.06-2.06.94z\"/><path d=\"M17.41 7.96l-1.37-1.37c-.4-.4-.92-.59-1.43-.59-.52 0-1.04.2-1.43.59L10.3 9.45l-7.72 7.72c-.78.78-.78 2.05 0 2.83L4 21.41c.39.39.9.59 1.41.59.51 0 1.02-.2 1.41-.59l7.78-7.78 2.81-2.81c.8-.78.8-2.07 0-2.86zM5.41 20L4 18.59l7.72-7.72 1.47 1.35L5.41 20z\"/>\n",
              "  </svg>\n",
              "      </button>\n",
              "      \n",
              "  <style>\n",
              "    .colab-df-container {\n",
              "      display:flex;\n",
              "      flex-wrap:wrap;\n",
              "      gap: 12px;\n",
              "    }\n",
              "\n",
              "    .colab-df-convert {\n",
              "      background-color: #E8F0FE;\n",
              "      border: none;\n",
              "      border-radius: 50%;\n",
              "      cursor: pointer;\n",
              "      display: none;\n",
              "      fill: #1967D2;\n",
              "      height: 32px;\n",
              "      padding: 0 0 0 0;\n",
              "      width: 32px;\n",
              "    }\n",
              "\n",
              "    .colab-df-convert:hover {\n",
              "      background-color: #E2EBFA;\n",
              "      box-shadow: 0px 1px 2px rgba(60, 64, 67, 0.3), 0px 1px 3px 1px rgba(60, 64, 67, 0.15);\n",
              "      fill: #174EA6;\n",
              "    }\n",
              "\n",
              "    [theme=dark] .colab-df-convert {\n",
              "      background-color: #3B4455;\n",
              "      fill: #D2E3FC;\n",
              "    }\n",
              "\n",
              "    [theme=dark] .colab-df-convert:hover {\n",
              "      background-color: #434B5C;\n",
              "      box-shadow: 0px 1px 3px 1px rgba(0, 0, 0, 0.15);\n",
              "      filter: drop-shadow(0px 1px 2px rgba(0, 0, 0, 0.3));\n",
              "      fill: #FFFFFF;\n",
              "    }\n",
              "  </style>\n",
              "\n",
              "      <script>\n",
              "        const buttonEl =\n",
              "          document.querySelector('#df-e930c9c9-9ba9-4637-8132-475b21e169f4 button.colab-df-convert');\n",
              "        buttonEl.style.display =\n",
              "          google.colab.kernel.accessAllowed ? 'block' : 'none';\n",
              "\n",
              "        async function convertToInteractive(key) {\n",
              "          const element = document.querySelector('#df-e930c9c9-9ba9-4637-8132-475b21e169f4');\n",
              "          const dataTable =\n",
              "            await google.colab.kernel.invokeFunction('convertToInteractive',\n",
              "                                                     [key], {});\n",
              "          if (!dataTable) return;\n",
              "\n",
              "          const docLinkHtml = 'Like what you see? Visit the ' +\n",
              "            '<a target=\"_blank\" href=https://colab.research.google.com/notebooks/data_table.ipynb>data table notebook</a>'\n",
              "            + ' to learn more about interactive tables.';\n",
              "          element.innerHTML = '';\n",
              "          dataTable['output_type'] = 'display_data';\n",
              "          await google.colab.output.renderOutput(dataTable, element);\n",
              "          const docLink = document.createElement('div');\n",
              "          docLink.innerHTML = docLinkHtml;\n",
              "          element.appendChild(docLink);\n",
              "        }\n",
              "      </script>\n",
              "    </div>\n",
              "  </div>\n",
              "  "
            ]
          },
          "metadata": {},
          "execution_count": 4
        }
      ]
    },
    {
      "cell_type": "code",
      "source": [
        "df.columns = [col.replace('.','_') for col in df.columns]\n",
        "df.columns"
      ],
      "metadata": {
        "colab": {
          "base_uri": "https://localhost:8080/"
        },
        "id": "jtVRMK7veJDs",
        "outputId": "9e3e4cf5-f1d8-4c67-ba41-03b3b2f14f34"
      },
      "execution_count": 63,
      "outputs": [
        {
          "output_type": "execute_result",
          "data": {
            "text/plain": [
              "Index(['Unnamed: 0', 'X_1', 'depressed_mood_1', 'anxiety_1',\n",
              "       'suspiciousness_1', 'irritability_1', 'craving_to_alcohol_1',\n",
              "       'weakness_1', 'insomia_1', 'headache_1',\n",
              "       ...\n",
              "       'combined2_9', 'HR_9', 'SBP_9', 'DBP_9', 'MBP_9', 'SV_9', 'CO_9',\n",
              "       'SI_9', 'CI_9', 'TPR_9'],\n",
              "      dtype='object', length=121)"
            ]
          },
          "metadata": {},
          "execution_count": 63
        }
      ]
    },
    {
      "cell_type": "code",
      "source": [
        "df.columns[df.nunique() > 5]"
      ],
      "metadata": {
        "colab": {
          "base_uri": "https://localhost:8080/"
        },
        "id": "WYkp89b4ci6W",
        "outputId": "9fe2f219-ea68-4b69-94ea-4b18c4db95b1"
      },
      "execution_count": 64,
      "outputs": [
        {
          "output_type": "execute_result",
          "data": {
            "text/plain": [
              "Index(['Unnamed: 0', 'X_1', 'combined1_1', 'combined2_1', 'HR_1', 'SBP_1',\n",
              "       'DBP_1', 'MBP_1', 'SV_1', 'CO_1', 'SI_1', 'CI_1', 'TPR_1', 'X_2',\n",
              "       'combined1_2', 'combined2_2', 'HR_2', 'SBP_2', 'MBP_2', 'DBP_2', 'SV_2',\n",
              "       'CO_2', 'SI_2', 'CI_2', 'TPR_2', 'X_3', 'combined1_3', 'combined2_3',\n",
              "       'HR_3', 'SBP_3', 'DBP_3', 'MBP_3', 'SV_3', 'CO_3', 'SI_3', 'CI_3',\n",
              "       'TPR_3', 'X_9', 'HR_9', 'SBP_9', 'DBP_9', 'MBP_9', 'SV_9', 'CO_9',\n",
              "       'SI_9', 'CI_9', 'TPR_9'],\n",
              "      dtype='object')"
            ]
          },
          "metadata": {},
          "execution_count": 64
        }
      ]
    },
    {
      "cell_type": "code",
      "source": [
        "df.columns[(df.nunique() > 2) & (df.nunique() < 5)]"
      ],
      "metadata": {
        "colab": {
          "base_uri": "https://localhost:8080/"
        },
        "id": "DTt8ryp8bWPR",
        "outputId": "13ad1dd6-f984-4837-958a-4778e3bfc110"
      },
      "execution_count": 52,
      "outputs": [
        {
          "output_type": "execute_result",
          "data": {
            "text/plain": [
              "Index(['anxiety.1', 'irritability.1', 'craving.to.alcohol.1', 'weakness.1',\n",
              "       'insomia.1', 'headache.1', 'tremor.1', 'sweating.1',\n",
              "       'transient.hallusinations.1', 'vomiting.1', 'anoreksia.1', 'thirst.1',\n",
              "       'chest.pain.1', 'hyperemia.1', 'depressed.mood.2',\n",
              "       'craving.to.alcohol.2', 'weakness.2', 'insomia.2', 'headache.2',\n",
              "       'tremor.2', 'sweating.2', 'anoreksia.2', 'thirst.2', 'weakness.3',\n",
              "       'insomia.3', 'tremor.3', 'sweating.3', 'thirst.3', 'combined1.9',\n",
              "       'combined2.9'],\n",
              "      dtype='object')"
            ]
          },
          "metadata": {},
          "execution_count": 52
        }
      ]
    },
    {
      "cell_type": "markdown",
      "source": [
        "1. Однофакторный дисперсионный анализ (ANOVA)"
      ],
      "metadata": {
        "id": "QWpbFEZDi4th"
      }
    },
    {
      "cell_type": "code",
      "source": [
        "import statsmodels.api as sm\n",
        "from statsmodels.formula.api import ols\n",
        "\n",
        "model = ols('combined2_1 ~ C(anxiety_1)', data=df).fit()\n",
        "aov_table = sm.stats.anova_lm(model)\n",
        "aov_table"
      ],
      "metadata": {
        "colab": {
          "base_uri": "https://localhost:8080/",
          "height": 112
        },
        "id": "fK2zDvjOcMe5",
        "outputId": "8c14e930-5257-4a38-a828-52295938b7ed"
      },
      "execution_count": 90,
      "outputs": [
        {
          "output_type": "execute_result",
          "data": {
            "text/plain": [
              "                df     sum_sq    mean_sq         F    PR(>F)\n",
              "C(anxiety_1)   2.0  31.151176  15.575588  5.377472  0.009889\n",
              "Residual      31.0  89.790000   2.896452       NaN       NaN"
            ],
            "text/html": [
              "\n",
              "  <div id=\"df-ab4bcdd5-0070-48e9-b2c7-4f655764a849\">\n",
              "    <div class=\"colab-df-container\">\n",
              "      <div>\n",
              "<style scoped>\n",
              "    .dataframe tbody tr th:only-of-type {\n",
              "        vertical-align: middle;\n",
              "    }\n",
              "\n",
              "    .dataframe tbody tr th {\n",
              "        vertical-align: top;\n",
              "    }\n",
              "\n",
              "    .dataframe thead th {\n",
              "        text-align: right;\n",
              "    }\n",
              "</style>\n",
              "<table border=\"1\" class=\"dataframe\">\n",
              "  <thead>\n",
              "    <tr style=\"text-align: right;\">\n",
              "      <th></th>\n",
              "      <th>df</th>\n",
              "      <th>sum_sq</th>\n",
              "      <th>mean_sq</th>\n",
              "      <th>F</th>\n",
              "      <th>PR(&gt;F)</th>\n",
              "    </tr>\n",
              "  </thead>\n",
              "  <tbody>\n",
              "    <tr>\n",
              "      <th>C(anxiety_1)</th>\n",
              "      <td>2.0</td>\n",
              "      <td>31.151176</td>\n",
              "      <td>15.575588</td>\n",
              "      <td>5.377472</td>\n",
              "      <td>0.009889</td>\n",
              "    </tr>\n",
              "    <tr>\n",
              "      <th>Residual</th>\n",
              "      <td>31.0</td>\n",
              "      <td>89.790000</td>\n",
              "      <td>2.896452</td>\n",
              "      <td>NaN</td>\n",
              "      <td>NaN</td>\n",
              "    </tr>\n",
              "  </tbody>\n",
              "</table>\n",
              "</div>\n",
              "      <button class=\"colab-df-convert\" onclick=\"convertToInteractive('df-ab4bcdd5-0070-48e9-b2c7-4f655764a849')\"\n",
              "              title=\"Convert this dataframe to an interactive table.\"\n",
              "              style=\"display:none;\">\n",
              "        \n",
              "  <svg xmlns=\"http://www.w3.org/2000/svg\" height=\"24px\"viewBox=\"0 0 24 24\"\n",
              "       width=\"24px\">\n",
              "    <path d=\"M0 0h24v24H0V0z\" fill=\"none\"/>\n",
              "    <path d=\"M18.56 5.44l.94 2.06.94-2.06 2.06-.94-2.06-.94-.94-2.06-.94 2.06-2.06.94zm-11 1L8.5 8.5l.94-2.06 2.06-.94-2.06-.94L8.5 2.5l-.94 2.06-2.06.94zm10 10l.94 2.06.94-2.06 2.06-.94-2.06-.94-.94-2.06-.94 2.06-2.06.94z\"/><path d=\"M17.41 7.96l-1.37-1.37c-.4-.4-.92-.59-1.43-.59-.52 0-1.04.2-1.43.59L10.3 9.45l-7.72 7.72c-.78.78-.78 2.05 0 2.83L4 21.41c.39.39.9.59 1.41.59.51 0 1.02-.2 1.41-.59l7.78-7.78 2.81-2.81c.8-.78.8-2.07 0-2.86zM5.41 20L4 18.59l7.72-7.72 1.47 1.35L5.41 20z\"/>\n",
              "  </svg>\n",
              "      </button>\n",
              "      \n",
              "  <style>\n",
              "    .colab-df-container {\n",
              "      display:flex;\n",
              "      flex-wrap:wrap;\n",
              "      gap: 12px;\n",
              "    }\n",
              "\n",
              "    .colab-df-convert {\n",
              "      background-color: #E8F0FE;\n",
              "      border: none;\n",
              "      border-radius: 50%;\n",
              "      cursor: pointer;\n",
              "      display: none;\n",
              "      fill: #1967D2;\n",
              "      height: 32px;\n",
              "      padding: 0 0 0 0;\n",
              "      width: 32px;\n",
              "    }\n",
              "\n",
              "    .colab-df-convert:hover {\n",
              "      background-color: #E2EBFA;\n",
              "      box-shadow: 0px 1px 2px rgba(60, 64, 67, 0.3), 0px 1px 3px 1px rgba(60, 64, 67, 0.15);\n",
              "      fill: #174EA6;\n",
              "    }\n",
              "\n",
              "    [theme=dark] .colab-df-convert {\n",
              "      background-color: #3B4455;\n",
              "      fill: #D2E3FC;\n",
              "    }\n",
              "\n",
              "    [theme=dark] .colab-df-convert:hover {\n",
              "      background-color: #434B5C;\n",
              "      box-shadow: 0px 1px 3px 1px rgba(0, 0, 0, 0.15);\n",
              "      filter: drop-shadow(0px 1px 2px rgba(0, 0, 0, 0.3));\n",
              "      fill: #FFFFFF;\n",
              "    }\n",
              "  </style>\n",
              "\n",
              "      <script>\n",
              "        const buttonEl =\n",
              "          document.querySelector('#df-ab4bcdd5-0070-48e9-b2c7-4f655764a849 button.colab-df-convert');\n",
              "        buttonEl.style.display =\n",
              "          google.colab.kernel.accessAllowed ? 'block' : 'none';\n",
              "\n",
              "        async function convertToInteractive(key) {\n",
              "          const element = document.querySelector('#df-ab4bcdd5-0070-48e9-b2c7-4f655764a849');\n",
              "          const dataTable =\n",
              "            await google.colab.kernel.invokeFunction('convertToInteractive',\n",
              "                                                     [key], {});\n",
              "          if (!dataTable) return;\n",
              "\n",
              "          const docLinkHtml = 'Like what you see? Visit the ' +\n",
              "            '<a target=\"_blank\" href=https://colab.research.google.com/notebooks/data_table.ipynb>data table notebook</a>'\n",
              "            + ' to learn more about interactive tables.';\n",
              "          element.innerHTML = '';\n",
              "          dataTable['output_type'] = 'display_data';\n",
              "          await google.colab.output.renderOutput(dataTable, element);\n",
              "          const docLink = document.createElement('div');\n",
              "          docLink.innerHTML = docLinkHtml;\n",
              "          element.appendChild(docLink);\n",
              "        }\n",
              "      </script>\n",
              "    </div>\n",
              "  </div>\n",
              "  "
            ]
          },
          "metadata": {},
          "execution_count": 90
        }
      ]
    },
    {
      "cell_type": "code",
      "source": [
        "st.f_oneway(df['combined2_1'][df['anxiety_1'] == 0],\n",
        "               df['combined2_1'][df['anxiety_1'] == 1],\n",
        "               df['combined2_1'][df['anxiety_1'] == 2])"
      ],
      "metadata": {
        "colab": {
          "base_uri": "https://localhost:8080/"
        },
        "id": "1UdEIxjohIxb",
        "outputId": "87cdef02-945a-4a1c-f8ce-ba330312217f"
      },
      "execution_count": 82,
      "outputs": [
        {
          "output_type": "execute_result",
          "data": {
            "text/plain": [
              "F_onewayResult(statistic=5.3774722719024135, pvalue=0.009888573149631517)"
            ]
          },
          "metadata": {},
          "execution_count": 82
        }
      ]
    },
    {
      "cell_type": "markdown",
      "source": [
        "2. Критерий W-Вилкоксона (проверка однородности двух \n",
        "зависимых выборок)"
      ],
      "metadata": {
        "id": "pG_eqJTri6WX"
      }
    },
    {
      "cell_type": "code",
      "source": [
        "st.wilcoxon(df['HR_1'], df['HR_2'])"
      ],
      "metadata": {
        "colab": {
          "base_uri": "https://localhost:8080/"
        },
        "id": "rFqJL1_iimL0",
        "outputId": "1ea5ddd4-e318-43ea-be8e-3d0cc317bc21"
      },
      "execution_count": 94,
      "outputs": [
        {
          "output_type": "execute_result",
          "data": {
            "text/plain": [
              "WilcoxonResult(statistic=421.0, pvalue=0.017333359338866837)"
            ]
          },
          "metadata": {},
          "execution_count": 94
        }
      ]
    },
    {
      "cell_type": "markdown",
      "source": [],
      "metadata": {
        "id": "XU6g-6qUr79l"
      }
    },
    {
      "cell_type": "markdown",
      "source": [
        "3. Критерий Фридмана (проверка однородности нескольких зависимых выборок)"
      ],
      "metadata": {
        "id": "yDJ7kxuMmzCM"
      }
    },
    {
      "cell_type": "code",
      "source": [
        "st.friedmanchisquare(df['SBP_1'],df['SBP_2'],df['SBP_3'],df['SBP_9'])"
      ],
      "metadata": {
        "colab": {
          "base_uri": "https://localhost:8080/"
        },
        "id": "C060nrximym4",
        "outputId": "be41367d-37a0-4c31-a729-9242e327499c"
      },
      "execution_count": 95,
      "outputs": [
        {
          "output_type": "execute_result",
          "data": {
            "text/plain": [
              "FriedmanchisquareResult(statistic=34.24850299401196, pvalue=1.7557383500586175e-07)"
            ]
          },
          "metadata": {},
          "execution_count": 95
        }
      ]
    },
    {
      "cell_type": "markdown",
      "source": [
        "4. Критерий Краскела-Уоллиса (проверка однородности нескольких независимых выборок)"
      ],
      "metadata": {
        "id": "Z4yGzWuInxGs"
      }
    },
    {
      "cell_type": "code",
      "source": [
        "st.kruskal(df['SBP_1'],df['DBP_1'], df['MBP_1'], nan_policy='omit')"
      ],
      "metadata": {
        "colab": {
          "base_uri": "https://localhost:8080/"
        },
        "id": "E7JacJWmnwef",
        "outputId": "d31fa92f-b47f-4d29-ea8a-b670a0eed66f"
      },
      "execution_count": 112,
      "outputs": [
        {
          "output_type": "execute_result",
          "data": {
            "text/plain": [
              "KruskalResult(statistic=74.4921277011509, pvalue=6.671753576011461e-17)"
            ]
          },
          "metadata": {},
          "execution_count": 112
        }
      ]
    },
    {
      "cell_type": "markdown",
      "source": [
        "5. Медианный критерий (проверка однородности нескольких независимых выборок)"
      ],
      "metadata": {
        "id": "dSetCjI9pZoT"
      }
    },
    {
      "cell_type": "code",
      "source": [
        "_, p_value, grand_median, table = st.median_test(df['SBP_1'], df['DBP_1'], df['MBP_1'], nan_policy='omit')\n",
        "p_value"
      ],
      "metadata": {
        "colab": {
          "base_uri": "https://localhost:8080/"
        },
        "id": "C_pAaOfupdPu",
        "outputId": "164352dc-42c3-4d5e-ef42-d48ef216fa46"
      },
      "execution_count": 117,
      "outputs": [
        {
          "output_type": "execute_result",
          "data": {
            "text/plain": [
              "5.845096277870607e-14"
            ]
          },
          "metadata": {},
          "execution_count": 117
        }
      ]
    },
    {
      "cell_type": "markdown",
      "source": [
        "---"
      ],
      "metadata": {
        "id": "BMzMay1hui1k"
      }
    },
    {
      "cell_type": "markdown",
      "source": [
        "Линейная регрессия."
      ],
      "metadata": {
        "id": "IbBNyRL4ujpw"
      }
    },
    {
      "cell_type": "code",
      "source": [
        "sns.scatterplot(data = df, x = 'SV_1', y = 'SI_1')"
      ],
      "metadata": {
        "colab": {
          "base_uri": "https://localhost:8080/",
          "height": 297
        },
        "id": "lE0ZdGMevHrS",
        "outputId": "01198373-020f-40c0-8bc8-f20a4666f11b"
      },
      "execution_count": 124,
      "outputs": [
        {
          "output_type": "execute_result",
          "data": {
            "text/plain": [
              "<matplotlib.axes._subplots.AxesSubplot at 0x7efcc9c81750>"
            ]
          },
          "metadata": {},
          "execution_count": 124
        },
        {
          "output_type": "display_data",
          "data": {
            "text/plain": [
              "<Figure size 432x288 with 1 Axes>"
            ],
            "image/png": "[encoded data removed]"
          },
          "metadata": {
            "needs_background": "light"
          }
        }
      ]
    },
    {
      "cell_type": "code",
      "source": [
        "x = df['SI_1'].dropna()\n",
        "y = df['CI_1'].dropna()\n",
        "st.linregress(x,y)"
      ],
      "metadata": {
        "colab": {
          "base_uri": "https://localhost:8080/"
        },
        "id": "hFiqcK10uotW",
        "outputId": "731df9bd-2108-4e16-bc3c-2cec3e03fc3e"
      },
      "execution_count": 141,
      "outputs": [
        {
          "output_type": "execute_result",
          "data": {
            "text/plain": [
              "LinregressResult(slope=0.05282184104972485, intercept=0.9831179999865634, rvalue=0.8396381039004138, pvalue=1.0132882274169944e-09, stderr=0.006137017156746934, intercept_stderr=0.26150441276806535)"
            ]
          },
          "metadata": {},
          "execution_count": 141
        }
      ]
    },
    {
      "cell_type": "code",
      "source": [
        "st.pearsonr(x, y)"
      ],
      "metadata": {
        "colab": {
          "base_uri": "https://localhost:8080/"
        },
        "id": "s_M3iFya7BAK",
        "outputId": "8932f4aa-2726-4dd6-ed7e-bc54e07ab745"
      },
      "execution_count": 147,
      "outputs": [
        {
          "output_type": "execute_result",
          "data": {
            "text/plain": [
              "(0.8396381039004139, 1.0132882274169876e-09)"
            ]
          },
          "metadata": {},
          "execution_count": 147
        }
      ]
    },
    {
      "cell_type": "code",
      "source": [
        "st.kendalltau(x,y)"
      ],
      "metadata": {
        "colab": {
          "base_uri": "https://localhost:8080/"
        },
        "id": "DeNd0d3I7SJO",
        "outputId": "b4f4e61c-d100-4579-94af-650925a199b6"
      },
      "execution_count": 145,
      "outputs": [
        {
          "output_type": "execute_result",
          "data": {
            "text/plain": [
              "KendalltauResult(correlation=0.6595952922185062, pvalue=1.0819766571177962e-07)"
            ]
          },
          "metadata": {},
          "execution_count": 145
        }
      ]
    },
    {
      "cell_type": "code",
      "source": [
        "st.spearmanr(x,y)"
      ],
      "metadata": {
        "colab": {
          "base_uri": "https://localhost:8080/"
        },
        "id": "bO2T0QVF74dT",
        "outputId": "5dbc7a06-1d52-407f-b126-49fee53820d7"
      },
      "execution_count": 146,
      "outputs": [
        {
          "output_type": "execute_result",
          "data": {
            "text/plain": [
              "SpearmanrResult(correlation=0.8391093370570679, pvalue=1.0622063978902586e-09)"
            ]
          },
          "metadata": {},
          "execution_count": 146
        }
      ]
    },
    {
      "cell_type": "code",
      "source": [
        "cities.head()"
      ],
      "metadata": {
        "colab": {
          "base_uri": "https://localhost:8080/",
          "height": 300
        },
        "id": "YqvsUO6bR7K8",
        "outputId": "a274003a-254e-450c-fdcd-de7b00ab8564"
      },
      "execution_count": 12,
      "outputs": [
        {
          "output_type": "execute_result",
          "data": {
            "text/plain": [
              "  BLACKproc  GROSS   OLD  LANG   HH1 DEATH  INCOME ASSIST  OWNER RENTER  ...  \\\n",
              "0      22,6    422   9,2   6,3  31,3  14,2   26651    9,4  66000   53,4  ...   \n",
              "1      46,6    322    14  11,1  33,5    17   17822   21,9  40900   52,1  ...   \n",
              "2      37,9    329  13,9   5,4  39,5  11,1   21006   14,3  61900   61,7  ...   \n",
              "3      19,7    378  13,6   6,9  29,7  10,9   24819   12,3  48900   39,3  ...   \n",
              "4      24,5    360  14,9     6  30,8  11,3   22279   14,2  43800   41,3  ...   \n",
              "\n",
              "   CRIME POVERT OLB_BIL  CONDOM TRANSP LAB_F MANLAB   POP80 TAXE  STATE  \n",
              "0  10145   17,2    17,5     5,8    4,7  63,4   11,6  565021  428     OH  \n",
              "1   8945   28,7    52,6       1   14,1  48,1   23,1  573822  545     OH  \n",
              "2   9722   24,3    43,1       2   11,2  55,1   15,4  385409  615     OH  \n",
              "3   9503   19,1    35,1     1,4      3  54,4   19,6  354635  377     OH  \n",
              "4   8066   20,5    36,8     2,2    3,3  51,6   20,7  237177  415     OH  \n",
              "\n",
              "[5 rows x 29 columns]"
            ],
            "text/html": [
              "\n",
              "  <div id=\"df-28f6392a-b27d-43a7-880d-60f7d579ef6f\">\n",
              "    <div class=\"colab-df-container\">\n",
              "      <div>\n",
              "<style scoped>\n",
              "    .dataframe tbody tr th:only-of-type {\n",
              "        vertical-align: middle;\n",
              "    }\n",
              "\n",
              "    .dataframe tbody tr th {\n",
              "        vertical-align: top;\n",
              "    }\n",
              "\n",
              "    .dataframe thead th {\n",
              "        text-align: right;\n",
              "    }\n",
              "</style>\n",
              "<table border=\"1\" class=\"dataframe\">\n",
              "  <thead>\n",
              "    <tr style=\"text-align: right;\">\n",
              "      <th></th>\n",
              "      <th>BLACKproc</th>\n",
              "      <th>GROSS</th>\n",
              "      <th>OLD</th>\n",
              "      <th>LANG</th>\n",
              "      <th>HH1</th>\n",
              "      <th>DEATH</th>\n",
              "      <th>INCOME</th>\n",
              "      <th>ASSIST</th>\n",
              "      <th>OWNER</th>\n",
              "      <th>RENTER</th>\n",
              "      <th>...</th>\n",
              "      <th>CRIME</th>\n",
              "      <th>POVERT</th>\n",
              "      <th>OLB_BIL</th>\n",
              "      <th>CONDOM</th>\n",
              "      <th>TRANSP</th>\n",
              "      <th>LAB_F</th>\n",
              "      <th>MANLAB</th>\n",
              "      <th>POP80</th>\n",
              "      <th>TAXE</th>\n",
              "      <th>STATE</th>\n",
              "    </tr>\n",
              "  </thead>\n",
              "  <tbody>\n",
              "    <tr>\n",
              "      <th>0</th>\n",
              "      <td>22,6</td>\n",
              "      <td>422</td>\n",
              "      <td>9,2</td>\n",
              "      <td>6,3</td>\n",
              "      <td>31,3</td>\n",
              "      <td>14,2</td>\n",
              "      <td>26651</td>\n",
              "      <td>9,4</td>\n",
              "      <td>66000</td>\n",
              "      <td>53,4</td>\n",
              "      <td>...</td>\n",
              "      <td>10145</td>\n",
              "      <td>17,2</td>\n",
              "      <td>17,5</td>\n",
              "      <td>5,8</td>\n",
              "      <td>4,7</td>\n",
              "      <td>63,4</td>\n",
              "      <td>11,6</td>\n",
              "      <td>565021</td>\n",
              "      <td>428</td>\n",
              "      <td>OH</td>\n",
              "    </tr>\n",
              "    <tr>\n",
              "      <th>1</th>\n",
              "      <td>46,6</td>\n",
              "      <td>322</td>\n",
              "      <td>14</td>\n",
              "      <td>11,1</td>\n",
              "      <td>33,5</td>\n",
              "      <td>17</td>\n",
              "      <td>17822</td>\n",
              "      <td>21,9</td>\n",
              "      <td>40900</td>\n",
              "      <td>52,1</td>\n",
              "      <td>...</td>\n",
              "      <td>8945</td>\n",
              "      <td>28,7</td>\n",
              "      <td>52,6</td>\n",
              "      <td>1</td>\n",
              "      <td>14,1</td>\n",
              "      <td>48,1</td>\n",
              "      <td>23,1</td>\n",
              "      <td>573822</td>\n",
              "      <td>545</td>\n",
              "      <td>OH</td>\n",
              "    </tr>\n",
              "    <tr>\n",
              "      <th>2</th>\n",
              "      <td>37,9</td>\n",
              "      <td>329</td>\n",
              "      <td>13,9</td>\n",
              "      <td>5,4</td>\n",
              "      <td>39,5</td>\n",
              "      <td>11,1</td>\n",
              "      <td>21006</td>\n",
              "      <td>14,3</td>\n",
              "      <td>61900</td>\n",
              "      <td>61,7</td>\n",
              "      <td>...</td>\n",
              "      <td>9722</td>\n",
              "      <td>24,3</td>\n",
              "      <td>43,1</td>\n",
              "      <td>2</td>\n",
              "      <td>11,2</td>\n",
              "      <td>55,1</td>\n",
              "      <td>15,4</td>\n",
              "      <td>385409</td>\n",
              "      <td>615</td>\n",
              "      <td>OH</td>\n",
              "    </tr>\n",
              "    <tr>\n",
              "      <th>3</th>\n",
              "      <td>19,7</td>\n",
              "      <td>378</td>\n",
              "      <td>13,6</td>\n",
              "      <td>6,9</td>\n",
              "      <td>29,7</td>\n",
              "      <td>10,9</td>\n",
              "      <td>24819</td>\n",
              "      <td>12,3</td>\n",
              "      <td>48900</td>\n",
              "      <td>39,3</td>\n",
              "      <td>...</td>\n",
              "      <td>9503</td>\n",
              "      <td>19,1</td>\n",
              "      <td>35,1</td>\n",
              "      <td>1,4</td>\n",
              "      <td>3</td>\n",
              "      <td>54,4</td>\n",
              "      <td>19,6</td>\n",
              "      <td>354635</td>\n",
              "      <td>377</td>\n",
              "      <td>OH</td>\n",
              "    </tr>\n",
              "    <tr>\n",
              "      <th>4</th>\n",
              "      <td>24,5</td>\n",
              "      <td>360</td>\n",
              "      <td>14,9</td>\n",
              "      <td>6</td>\n",
              "      <td>30,8</td>\n",
              "      <td>11,3</td>\n",
              "      <td>22279</td>\n",
              "      <td>14,2</td>\n",
              "      <td>43800</td>\n",
              "      <td>41,3</td>\n",
              "      <td>...</td>\n",
              "      <td>8066</td>\n",
              "      <td>20,5</td>\n",
              "      <td>36,8</td>\n",
              "      <td>2,2</td>\n",
              "      <td>3,3</td>\n",
              "      <td>51,6</td>\n",
              "      <td>20,7</td>\n",
              "      <td>237177</td>\n",
              "      <td>415</td>\n",
              "      <td>OH</td>\n",
              "    </tr>\n",
              "  </tbody>\n",
              "</table>\n",
              "<p>5 rows × 29 columns</p>\n",
              "</div>\n",
              "      <button class=\"colab-df-convert\" onclick=\"convertToInteractive('df-28f6392a-b27d-43a7-880d-60f7d579ef6f')\"\n",
              "              title=\"Convert this dataframe to an interactive table.\"\n",
              "              style=\"display:none;\">\n",
              "        \n",
              "  <svg xmlns=\"http://www.w3.org/2000/svg\" height=\"24px\"viewBox=\"0 0 24 24\"\n",
              "       width=\"24px\">\n",
              "    <path d=\"M0 0h24v24H0V0z\" fill=\"none\"/>\n",
              "    <path d=\"M18.56 5.44l.94 2.06.94-2.06 2.06-.94-2.06-.94-.94-2.06-.94 2.06-2.06.94zm-11 1L8.5 8.5l.94-2.06 2.06-.94-2.06-.94L8.5 2.5l-.94 2.06-2.06.94zm10 10l.94 2.06.94-2.06 2.06-.94-2.06-.94-.94-2.06-.94 2.06-2.06.94z\"/><path d=\"M17.41 7.96l-1.37-1.37c-.4-.4-.92-.59-1.43-.59-.52 0-1.04.2-1.43.59L10.3 9.45l-7.72 7.72c-.78.78-.78 2.05 0 2.83L4 21.41c.39.39.9.59 1.41.59.51 0 1.02-.2 1.41-.59l7.78-7.78 2.81-2.81c.8-.78.8-2.07 0-2.86zM5.41 20L4 18.59l7.72-7.72 1.47 1.35L5.41 20z\"/>\n",
              "  </svg>\n",
              "      </button>\n",
              "      \n",
              "  <style>\n",
              "    .colab-df-container {\n",
              "      display:flex;\n",
              "      flex-wrap:wrap;\n",
              "      gap: 12px;\n",
              "    }\n",
              "\n",
              "    .colab-df-convert {\n",
              "      background-color: #E8F0FE;\n",
              "      border: none;\n",
              "      border-radius: 50%;\n",
              "      cursor: pointer;\n",
              "      display: none;\n",
              "      fill: #1967D2;\n",
              "      height: 32px;\n",
              "      padding: 0 0 0 0;\n",
              "      width: 32px;\n",
              "    }\n",
              "\n",
              "    .colab-df-convert:hover {\n",
              "      background-color: #E2EBFA;\n",
              "      box-shadow: 0px 1px 2px rgba(60, 64, 67, 0.3), 0px 1px 3px 1px rgba(60, 64, 67, 0.15);\n",
              "      fill: #174EA6;\n",
              "    }\n",
              "\n",
              "    [theme=dark] .colab-df-convert {\n",
              "      background-color: #3B4455;\n",
              "      fill: #D2E3FC;\n",
              "    }\n",
              "\n",
              "    [theme=dark] .colab-df-convert:hover {\n",
              "      background-color: #434B5C;\n",
              "      box-shadow: 0px 1px 3px 1px rgba(0, 0, 0, 0.15);\n",
              "      filter: drop-shadow(0px 1px 2px rgba(0, 0, 0, 0.3));\n",
              "      fill: #FFFFFF;\n",
              "    }\n",
              "  </style>\n",
              "\n",
              "      <script>\n",
              "        const buttonEl =\n",
              "          document.querySelector('#df-28f6392a-b27d-43a7-880d-60f7d579ef6f button.colab-df-convert');\n",
              "        buttonEl.style.display =\n",
              "          google.colab.kernel.accessAllowed ? 'block' : 'none';\n",
              "\n",
              "        async function convertToInteractive(key) {\n",
              "          const element = document.querySelector('#df-28f6392a-b27d-43a7-880d-60f7d579ef6f');\n",
              "          const dataTable =\n",
              "            await google.colab.kernel.invokeFunction('convertToInteractive',\n",
              "                                                     [key], {});\n",
              "          if (!dataTable) return;\n",
              "\n",
              "          const docLinkHtml = 'Like what you see? Visit the ' +\n",
              "            '<a target=\"_blank\" href=https://colab.research.google.com/notebooks/data_table.ipynb>data table notebook</a>'\n",
              "            + ' to learn more about interactive tables.';\n",
              "          element.innerHTML = '';\n",
              "          dataTable['output_type'] = 'display_data';\n",
              "          await google.colab.output.renderOutput(dataTable, element);\n",
              "          const docLink = document.createElement('div');\n",
              "          docLink.innerHTML = docLinkHtml;\n",
              "          element.appendChild(docLink);\n",
              "        }\n",
              "      </script>\n",
              "    </div>\n",
              "  </div>\n",
              "  "
            ]
          },
          "metadata": {},
          "execution_count": 12
        }
      ]
    },
    {
      "cell_type": "code",
      "source": [
        "cities.info()"
      ],
      "metadata": {
        "colab": {
          "base_uri": "https://localhost:8080/"
        },
        "id": "TDwLRR5-RvV2",
        "outputId": "545fceeb-4358-4be2-ef23-99eb1ffc8739"
      },
      "execution_count": 11,
      "outputs": [
        {
          "output_type": "stream",
          "name": "stdout",
          "text": [
            "<class 'pandas.core.frame.DataFrame'>\n",
            "RangeIndex: 25 entries, 0 to 24\n",
            "Data columns (total 29 columns):\n",
            " #   Column     Non-Null Count  Dtype \n",
            "---  ------     --------------  ----- \n",
            " 0   BLACKproc  25 non-null     object\n",
            " 1   GROSS      25 non-null     int64 \n",
            " 2   OLD        25 non-null     object\n",
            " 3   LANG       25 non-null     object\n",
            " 4   HH1        25 non-null     object\n",
            " 5   DEATH      25 non-null     object\n",
            " 6   INCOME     25 non-null     int64 \n",
            " 7   ASSIST     25 non-null     object\n",
            " 8   OWNER      25 non-null     int64 \n",
            " 9   RENTER     25 non-null     object\n",
            " 10  UNEMP      25 non-null     object\n",
            " 11  LABOR      25 non-null     object\n",
            " 12  POP_CH     25 non-null     object\n",
            " 13  POP92      25 non-null     int64 \n",
            " 14  HISPproc   25 non-null     object\n",
            " 15  ASIANproc  25 non-null     object\n",
            " 16  BORN_F     25 non-null     object\n",
            " 17  FAMIL1     25 non-null     object\n",
            " 18  SCHOOL     25 non-null     object\n",
            " 19  CRIME      25 non-null     int64 \n",
            " 20  POVERT     25 non-null     object\n",
            " 21  OLB_BIL    25 non-null     object\n",
            " 22  CONDOM     25 non-null     object\n",
            " 23  TRANSP     25 non-null     object\n",
            " 24  LAB_F      25 non-null     object\n",
            " 25  MANLAB     25 non-null     object\n",
            " 26  POP80      25 non-null     int64 \n",
            " 27  TAXE       25 non-null     int64 \n",
            " 28  STATE      25 non-null     object\n",
            "dtypes: int64(7), object(22)\n",
            "memory usage: 5.8+ KB\n"
          ]
        }
      ]
    },
    {
      "cell_type": "markdown",
      "source": [
        "Однофакторный дисперсионный анализ (ANOVA) + попарные сравнения\n",
        "\n",
        "Критерий W-Вилкоксона (проверка однородности двух независимых выборок)\n",
        "\n",
        "Критерий W-Вилкоксона (проверка однородности двух зависимых выборок)\n",
        "\n",
        "Критерий Фридмана (проверка однородности нескольких зависимых выборок)\n",
        "\n",
        "Критерий Краскела-Уоллиса (проверка однородности нескольких независимых выборок)\n",
        "\n",
        "Медианный критерий (проверка однородности нескольких независимых выборок)\n",
        "\n",
        "---\n",
        "\n",
        "Линейная регрессия. Коэффициент детерминации. Квадрат\n",
        "выборочного коэффициента корреляции.\n",
        "\n",
        "Ранговая корреляция Пирсона/Кенделла/Спирмена."
      ],
      "metadata": {
        "id": "23d_Hyj09XmJ"
      }
    },
    {
      "cell_type": "code",
      "source": [
        "ct = cities.select_dtypes(include=['object']).drop('STATE', axis = 1)\n",
        "for column_float in ct:\n",
        "  ct[column_float] = ct[column_float].apply(lambda x: x.replace(',','.')).astype(np.float64)"
      ],
      "metadata": {
        "id": "scLWDhHeUpR4"
      },
      "execution_count": 29,
      "outputs": []
    }
  ]
}