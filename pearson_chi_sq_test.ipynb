{
  "nbformat": 4,
  "nbformat_minor": 0,
  "metadata": {
    "colab": {
      "provenance": [],
      "authorship_tag": "ABX9TyNblKUybauJKKPN9zwhrICS",
      "include_colab_link": true
    },
    "kernelspec": {
      "name": "python3",
      "display_name": "Python 3"
    },
    "language_info": {
      "name": "python"
    }
  },
  "cells": [
    {
      "cell_type": "markdown",
      "metadata": {
        "id": "view-in-github",
        "colab_type": "text"
      },
      "source": [
        "<a href=\"https://colab.research.google.com/github/bilik49/statistical_analysis/blob/main/pearson_chi_sq_test.ipynb\" target=\"_parent\"><img src=\"https://colab.research.google.com/assets/colab-badge.svg\" alt=\"Open In Colab\"/></a>"
      ]
    },
    {
      "cell_type": "code",
      "execution_count": 245,
      "metadata": {
        "id": "hKvw23gsWVkf"
      },
      "outputs": [],
      "source": [
        "import numpy as np\n",
        "import pandas as pd\n",
        "import scipy.stats as st\n",
        "import seaborn as sns"
      ]
    },
    {
      "cell_type": "markdown",
      "source": [
        "### Проверим гипотезу согласия с нормальным законом эмпирического закона распределения промоделированной выборки с заданными параметрами."
      ],
      "metadata": {
        "id": "CEn9nnuIUz1Q"
      }
    },
    {
      "cell_type": "markdown",
      "source": [
        "Моделируем нормальную случайную величину:"
      ],
      "metadata": {
        "id": "jJsKWZD8aUW4"
      }
    },
    {
      "cell_type": "code",
      "source": [
        "N = 300\n",
        "mean = 0\n",
        "var = 1\n",
        "\n",
        "normal = np.random.normal(mean,var,N)"
      ],
      "metadata": {
        "id": "jYTB2pezYNfU"
      },
      "execution_count": 246,
      "outputs": []
    },
    {
      "cell_type": "markdown",
      "source": [
        "Посмотрим на гистограмму распределения."
      ],
      "metadata": {
        "id": "ZEM79G5kbbem"
      }
    },
    {
      "cell_type": "code",
      "source": [
        "ax = sns.histplot(normal, kde = True, stat='density')\n",
        "x0, x1 = ax.get_xlim()\n",
        "x_pdf = np.linspace(x0, x1, 100)\n",
        "y_pdf = st.norm.pdf(x_pdf, loc = mean, scale = var)\n",
        "ax.plot(x_pdf,y_pdf,'r', lw=2)"
      ],
      "metadata": {
        "colab": {
          "base_uri": "https://localhost:8080/",
          "height": 282
        },
        "id": "PSrm_atlbbCt",
        "outputId": "895e7610-b137-4b47-8396-5ef83f78ee47"
      },
      "execution_count": 247,
      "outputs": [
        {
          "output_type": "execute_result",
          "data": {
            "text/plain": [
              "[<matplotlib.lines.Line2D at 0x7f92df8442d0>]"
            ]
          },
          "metadata": {},
          "execution_count": 247
        },
        {
          "output_type": "display_data",
          "data": {
            "text/plain": [
              "<Figure size 432x288 with 1 Axes>"
            ],
            "image/png": "[encoded data removed]"
          },
          "metadata": {
            "needs_background": "light"
          }
        }
      ]
    },
    {
      "cell_type": "markdown",
      "source": [
        "По формуле Стерджесса разобъем на k интервалов:"
      ],
      "metadata": {
        "id": "t_RMetlLaadS"
      }
    },
    {
      "cell_type": "code",
      "source": [
        "k = 1 + np.floor(3.322 * np.log10(N)).astype(int)\n",
        "max = np.max(normal)\n",
        "min = np.min(normal)\n",
        "h = (max - min) / k"
      ],
      "metadata": {
        "id": "Grfor80C1U44"
      },
      "execution_count": 248,
      "outputs": []
    },
    {
      "cell_type": "markdown",
      "source": [
        "Получилось"
      ],
      "metadata": {
        "id": "yb-J2-cEajG2"
      }
    },
    {
      "cell_type": "code",
      "source": [
        "k"
      ],
      "metadata": {
        "colab": {
          "base_uri": "https://localhost:8080/"
        },
        "id": "F24f3ngSRp9v",
        "outputId": "79bb34b7-3f9d-4564-f64b-8ebeeb187f02"
      },
      "execution_count": 249,
      "outputs": [
        {
          "output_type": "execute_result",
          "data": {
            "text/plain": [
              "9"
            ]
          },
          "metadata": {},
          "execution_count": 249
        }
      ]
    },
    {
      "cell_type": "markdown",
      "source": [
        "Вычислим наблюдаемые частоты:"
      ],
      "metadata": {
        "id": "JkaB6XRAau5v"
      }
    },
    {
      "cell_type": "code",
      "source": [
        "freq_obs = np.array(pd.Series(normal).value_counts(bins = k, sort = False))\n",
        "freq_obs"
      ],
      "metadata": {
        "colab": {
          "base_uri": "https://localhost:8080/"
        },
        "id": "u1whgEjf-Elc",
        "outputId": "725138cf-ad65-429f-9243-edc0bfc40823"
      },
      "execution_count": 250,
      "outputs": [
        {
          "output_type": "execute_result",
          "data": {
            "text/plain": [
              "array([ 5, 11, 29, 66, 68, 62, 33, 21,  5])"
            ]
          },
          "metadata": {},
          "execution_count": 250
        }
      ]
    },
    {
      "cell_type": "markdown",
      "source": [
        "Вычислим теоретические частоты:"
      ],
      "metadata": {
        "id": "3FhCMq6xa7TS"
      }
    },
    {
      "cell_type": "code",
      "source": [
        "p = st.norm.cdf(min + np.arange(2, k) * h, loc = mean, scale = var) - st.norm.cdf(min + np.arange(1,k-1) * h, loc = mean, scale = var)\n",
        "p = np.concatenate(([st.norm.cdf(min + h, loc = mean, scale = var)], p, [1 - st.norm.cdf(min + (k-1) * h, loc = mean, scale = var)]))\n",
        "freq_exp = p * N\n",
        "freq_exp"
      ],
      "metadata": {
        "colab": {
          "base_uri": "https://localhost:8080/"
        },
        "id": "veAjZszdHBCW",
        "outputId": "3964b4e5-a148-4cb6-d368-48bfdd261215"
      },
      "execution_count": 251,
      "outputs": [
        {
          "output_type": "execute_result",
          "data": {
            "text/plain": [
              "array([ 4.84410438, 13.20180335, 32.04357969, 55.61742563, 69.04333989,\n",
              "       61.3063386 , 38.93536199, 17.68368492,  7.32436156])"
            ]
          },
          "metadata": {},
          "execution_count": 251
        }
      ]
    },
    {
      "cell_type": "markdown",
      "source": [
        "Посчитаем статистику $\\chi^2$:"
      ],
      "metadata": {
        "id": "o2ac3Enza_4r"
      }
    },
    {
      "cell_type": "code",
      "source": [
        "chi_sq = sum((freq_obs - freq_exp) ** 2 / freq_exp)\n",
        "chi_sq"
      ],
      "metadata": {
        "colab": {
          "base_uri": "https://localhost:8080/"
        },
        "id": "Stpwvh32H3C-",
        "outputId": "bc40a0b1-e9a0-4723-f1e8-eed9112186ba"
      },
      "execution_count": 252,
      "outputs": [
        {
          "output_type": "execute_result",
          "data": {
            "text/plain": [
              "4.887488987707439"
            ]
          },
          "metadata": {},
          "execution_count": 252
        }
      ]
    },
    {
      "cell_type": "markdown",
      "source": [
        "Вычислим pvalue:"
      ],
      "metadata": {
        "id": "kkXA600LbPut"
      }
    },
    {
      "cell_type": "code",
      "source": [
        "pvalue = 1 - st.chi2.cdf(chi_sq, k-1)\n",
        "pvalue"
      ],
      "metadata": {
        "colab": {
          "base_uri": "https://localhost:8080/"
        },
        "id": "YKTjivLBTtyS",
        "outputId": "9f13ffaf-e4a0-4df8-fd74-1a7c4fd69e3a"
      },
      "execution_count": 253,
      "outputs": [
        {
          "output_type": "execute_result",
          "data": {
            "text/plain": [
              "0.7695310310201708"
            ]
          },
          "metadata": {},
          "execution_count": 253
        }
      ]
    },
    {
      "cell_type": "markdown",
      "source": [
        "pvalue > 0.05. Следовательно, принимаем нулевую гипотезу. Таким образом, промоделированная случайная величина имеет нормальное распределение."
      ],
      "metadata": {
        "id": "ybHZ8j_gbUuj"
      }
    },
    {
      "cell_type": "markdown",
      "source": [
        "Через пакет scipy:"
      ],
      "metadata": {
        "id": "0bJFh6PzbzMk"
      }
    },
    {
      "cell_type": "code",
      "source": [
        "st.chisquare(freq_obs, freq_exp)"
      ],
      "metadata": {
        "colab": {
          "base_uri": "https://localhost:8080/"
        },
        "id": "vC--9f75YcEl",
        "outputId": "76b6f66f-c5d9-4b1e-9854-ad87875582a1"
      },
      "execution_count": 254,
      "outputs": [
        {
          "output_type": "execute_result",
          "data": {
            "text/plain": [
              "Power_divergenceResult(statistic=4.887488987707439, pvalue=0.7695310310201708)"
            ]
          },
          "metadata": {},
          "execution_count": 254
        }
      ]
    }
  ]
}