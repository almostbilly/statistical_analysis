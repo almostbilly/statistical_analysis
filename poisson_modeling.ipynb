{
  "nbformat": 4,
  "nbformat_minor": 0,
  "metadata": {
    "colab": {
      "provenance": [],
      "authorship_tag": "ABX9TyMZmFStJY6uUPSIckY+raxA",
      "include_colab_link": true
    },
    "kernelspec": {
      "name": "python3",
      "display_name": "Python 3"
    },
    "language_info": {
      "name": "python"
    }
  },
  "cells": [
    {
      "cell_type": "markdown",
      "metadata": {
        "id": "view-in-github",
        "colab_type": "text"
      },
      "source": [
        "<a href=\"https://colab.research.google.com/github/bilik49/statistical_analysis/blob/main/poisson_modeling.ipynb\" target=\"_parent\"><img src=\"https://colab.research.google.com/assets/colab-badge.svg\" alt=\"Open In Colab\"/></a>"
      ]
    },
    {
      "cell_type": "code",
      "execution_count": 1,
      "metadata": {
        "id": "54gcCSgFMeAT"
      },
      "outputs": [],
      "source": [
        "import numpy as np\n",
        "import pandas as pd\n",
        "import seaborn as sns"
      ]
    },
    {
      "cell_type": "markdown",
      "source": [
        "Промоделировать 500 значений случайной величины, имеющей сложно-пуассоновское распределение с параметром $\\lambda=1$ пуассоновского числа нормально распределенных компонент с параметрами $\\mu=2, \\sigma^2=0.24$."
      ],
      "metadata": {
        "id": "6IxZvPinMvxr"
      }
    },
    {
      "cell_type": "code",
      "source": [
        "N = 500\n",
        "poisson = np.random.poisson(lam=1, size=N)\n",
        "\n",
        "complex_poisson = []\n",
        "for i in poisson:\n",
        "  complex_poisson.append(sum(np.random.normal(loc=2,scale=np.sqrt(0.24), size=i)))"
      ],
      "metadata": {
        "id": "mY2pBBvsMvBI"
      },
      "execution_count": 57,
      "outputs": []
    },
    {
      "cell_type": "code",
      "source": [
        "sns.histplot(complex_poisson, kde = True)"
      ],
      "metadata": {
        "colab": {
          "base_uri": "https://localhost:8080/",
          "height": 285
        },
        "id": "_4Who_7RQywo",
        "outputId": "2a1db817-4a01-4934-e0ac-8e4dc86c38b1"
      },
      "execution_count": 60,
      "outputs": [
        {
          "output_type": "execute_result",
          "data": {
            "text/plain": [
              "<matplotlib.axes._subplots.AxesSubplot at 0x7fc60d0fdd50>"
            ]
          },
          "metadata": {},
          "execution_count": 60
        },
        {
          "output_type": "display_data",
          "data": {
            "text/plain": [
              "<Figure size 432x288 with 1 Axes>"
            ],
            "image/png": "[encoded data removed]"
          },
          "metadata": {
            "needs_background": "light"
          }
        }
      ]
    },
    {
      "cell_type": "markdown",
      "source": [
        "Среднее:"
      ],
      "metadata": {
        "id": "IGqnwm_GU0Pq"
      }
    },
    {
      "cell_type": "code",
      "execution_count": 63,
      "metadata": {
        "id": "93114c8d",
        "outputId": "08e0f2f4-1511-4f94-c1e5-2327772c299f",
        "colab": {
          "base_uri": "https://localhost:8080/"
        }
      },
      "outputs": [
        {
          "output_type": "execute_result",
          "data": {
            "text/plain": [
              "1.9436563879802977"
            ]
          },
          "metadata": {},
          "execution_count": 63
        }
      ],
      "source": [
        "complex_poisson_mean = sum(complex_poisson) / N\n",
        "complex_poisson_mean"
      ]
    },
    {
      "cell_type": "markdown",
      "source": [
        "Смещенная дисперсия:"
      ],
      "metadata": {
        "id": "5MrBbAMkVHHi"
      }
    },
    {
      "cell_type": "code",
      "execution_count": 64,
      "metadata": {
        "id": "6a1db30e",
        "outputId": "fae70a7b-39da-4583-dca0-8375d6c8dfc9",
        "colab": {
          "base_uri": "https://localhost:8080/"
        }
      },
      "outputs": [
        {
          "output_type": "execute_result",
          "data": {
            "text/plain": [
              "4.090990343155477"
            ]
          },
          "metadata": {},
          "execution_count": 64
        }
      ],
      "source": [
        "complex_poisson_var = sum((complex_poisson - complex_poisson_mean) ** 2 / N)\n",
        "complex_poisson_var"
      ]
    },
    {
      "cell_type": "markdown",
      "source": [
        "Несмещенная дисперсия:"
      ],
      "metadata": {
        "id": "xEcTvlxLWJjE"
      }
    },
    {
      "cell_type": "code",
      "execution_count": 65,
      "metadata": {
        "id": "079d2f78",
        "outputId": "fd1244bd-8930-4388-b82a-30e32261bd61",
        "colab": {
          "base_uri": "https://localhost:8080/"
        }
      },
      "outputs": [
        {
          "output_type": "execute_result",
          "data": {
            "text/plain": [
              "4.09918872059667"
            ]
          },
          "metadata": {},
          "execution_count": 65
        }
      ],
      "source": [
        "complex_poisson_var_unbiased = complex_poisson_var * N / (N - 1)\n",
        "complex_poisson_var_unbiased"
      ]
    },
    {
      "cell_type": "markdown",
      "source": [
        "Коэффициент ассиметрии:"
      ],
      "metadata": {
        "id": "1yY5in_tWLmL"
      }
    },
    {
      "cell_type": "code",
      "source": [
        "complex_poisson_skewness = sum((complex_poisson - complex_poisson_mean) ** 3) / (N * complex_poisson_var ** (3 / 2))\n",
        "complex_poisson_skewness"
      ],
      "metadata": {
        "colab": {
          "base_uri": "https://localhost:8080/"
        },
        "id": "1R-SPmumWoqk",
        "outputId": "cf8de486-fe7c-434a-dbe7-20f7fcb34a61"
      },
      "execution_count": 67,
      "outputs": [
        {
          "output_type": "execute_result",
          "data": {
            "text/plain": [
              "1.0154718459641587"
            ]
          },
          "metadata": {},
          "execution_count": 67
        }
      ]
    },
    {
      "cell_type": "markdown",
      "source": [
        "Коэффициент эксцессы:"
      ],
      "metadata": {
        "id": "F_NBHkOoZHZw"
      }
    },
    {
      "cell_type": "code",
      "source": [
        "complex_poisson_kurtosis = sum((complex_poisson - complex_poisson_mean) ** 4) / (N * complex_poisson_var ** 2) - 3\n",
        "complex_poisson_kurtosis"
      ],
      "metadata": {
        "colab": {
          "base_uri": "https://localhost:8080/"
        },
        "id": "8RY20pr_Yr7A",
        "outputId": "4efd7fa2-2b0e-462f-8237-2104b8066bab"
      },
      "execution_count": 69,
      "outputs": [
        {
          "output_type": "execute_result",
          "data": {
            "text/plain": [
              "0.8787994982264538"
            ]
          },
          "metadata": {},
          "execution_count": 69
        }
      ]
    }
  ]
}