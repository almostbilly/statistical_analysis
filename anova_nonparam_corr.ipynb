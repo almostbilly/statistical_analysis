{
  "nbformat": 4,
  "nbformat_minor": 0,
  "metadata": {
    "colab": {
      "provenance": [],
      "mount_file_id": "1vwS17myul25cQYlrBUmZfRlBln3SC44B",
      "authorship_tag": "ABX9TyMaNuB1u3/JBKCpEp5gckIC",
      "include_colab_link": true
    },
    "kernelspec": {
      "name": "python3",
      "display_name": "Python 3"
    },
    "language_info": {
      "name": "python"
    }
  },
  "cells": [
    {
      "cell_type": "markdown",
      "metadata": {
        "id": "view-in-github",
        "colab_type": "text"
      },
      "source": [
        "<a href=\"https://colab.research.google.com/github/bilik49/statistical_analysis/blob/main/anova_nonparam_corr.ipynb\" target=\"_parent\"><img src=\"https://colab.research.google.com/assets/colab-badge.svg\" alt=\"Open In Colab\"/></a>"
      ]
    },
    {
      "cell_type": "code",
      "execution_count": 38,
      "metadata": {
        "id": "OvIA7efayec6"
      },
      "outputs": [],
      "source": [
        "import numpy as np\n",
        "import pandas as pd\n",
        "import scipy.stats as st\n",
        "import seaborn as sns"
      ]
    },
    {
      "cell_type": "code",
      "source": [
        "df = pd.read_csv('/content/drive/MyDrive/data/statistic/data_big.csv')"
      ],
      "metadata": {
        "id": "Kn0mhH7_ynuO"
      },
      "execution_count": 39,
      "outputs": []
    },
    {
      "cell_type": "code",
      "source": [
        "df.head()"
      ],
      "metadata": {
        "id": "9TyeyUEDzwXc",
        "outputId": "4aa20e6b-647a-4b72-8b64-54e033914383",
        "colab": {
          "base_uri": "https://localhost:8080/",
          "height": 317
        }
      },
      "execution_count": 40,
      "outputs": [
        {
          "output_type": "execute_result",
          "data": {
            "text/plain": [
              "   Unnamed: 0  X.1  depressed.mood.1  anxiety.1  suspiciousness.1  \\\n",
              "0           1    1                 1          1                 0   \n",
              "1           2    2                 1          1                 0   \n",
              "2           3    3                 1          1                 0   \n",
              "3           4    4                 2          2                 0   \n",
              "4           5    5                 1          1                 0   \n",
              "\n",
              "   irritability.1  craving.to.alcohol.1  weakness.1  insomia.1  headache.1  \\\n",
              "0               1                     1           1          1           0   \n",
              "1               0                     1           1          2           1   \n",
              "2               0                     0           2          1           0   \n",
              "3               0                     0           2          0           0   \n",
              "4               0                     2           2          1           0   \n",
              "\n",
              "   ...  combined2.9  HR.9  SBP.9  DBP.9  MBP.9   SV.9  CO.9  SI.9  CI.9  \\\n",
              "0  ...            0  68.0  108.0   70.0   83.0   74.0   5.0  40.0   2.7   \n",
              "1  ...            9  63.0  114.0   70.0   85.0  123.0   7.7  60.0   3.8   \n",
              "2  ...            0  64.0  120.0   80.0   93.0  106.0   6.8  55.0   3.5   \n",
              "3  ...            0  56.0  124.0   90.0  101.0   90.0   5.1  43.0   2.4   \n",
              "4  ...            0  66.0  116.0   78.0   90.0   90.0   5.9  45.0   2.2   \n",
              "\n",
              "    TPR.9  \n",
              "0  1321.0  \n",
              "1   879.0  \n",
              "2  1098.0  \n",
              "3  1600.0  \n",
              "4  1228.0  \n",
              "\n",
              "[5 rows x 121 columns]"
            ],
            "text/html": [
              "\n",
              "  <div id=\"df-2a17dc4e-3bc6-4491-be06-94739547ea7b\">\n",
              "    <div class=\"colab-df-container\">\n",
              "      <div>\n",
              "<style scoped>\n",
              "    .dataframe tbody tr th:only-of-type {\n",
              "        vertical-align: middle;\n",
              "    }\n",
              "\n",
              "    .dataframe tbody tr th {\n",
              "        vertical-align: top;\n",
              "    }\n",
              "\n",
              "    .dataframe thead th {\n",
              "        text-align: right;\n",
              "    }\n",
              "</style>\n",
              "<table border=\"1\" class=\"dataframe\">\n",
              "  <thead>\n",
              "    <tr style=\"text-align: right;\">\n",
              "      <th></th>\n",
              "      <th>Unnamed: 0</th>\n",
              "      <th>X.1</th>\n",
              "      <th>depressed.mood.1</th>\n",
              "      <th>anxiety.1</th>\n",
              "      <th>suspiciousness.1</th>\n",
              "      <th>irritability.1</th>\n",
              "      <th>craving.to.alcohol.1</th>\n",
              "      <th>weakness.1</th>\n",
              "      <th>insomia.1</th>\n",
              "      <th>headache.1</th>\n",
              "      <th>...</th>\n",
              "      <th>combined2.9</th>\n",
              "      <th>HR.9</th>\n",
              "      <th>SBP.9</th>\n",
              "      <th>DBP.9</th>\n",
              "      <th>MBP.9</th>\n",
              "      <th>SV.9</th>\n",
              "      <th>CO.9</th>\n",
              "      <th>SI.9</th>\n",
              "      <th>CI.9</th>\n",
              "      <th>TPR.9</th>\n",
              "    </tr>\n",
              "  </thead>\n",
              "  <tbody>\n",
              "    <tr>\n",
              "      <th>0</th>\n",
              "      <td>1</td>\n",
              "      <td>1</td>\n",
              "      <td>1</td>\n",
              "      <td>1</td>\n",
              "      <td>0</td>\n",
              "      <td>1</td>\n",
              "      <td>1</td>\n",
              "      <td>1</td>\n",
              "      <td>1</td>\n",
              "      <td>0</td>\n",
              "      <td>...</td>\n",
              "      <td>0</td>\n",
              "      <td>68.0</td>\n",
              "      <td>108.0</td>\n",
              "      <td>70.0</td>\n",
              "      <td>83.0</td>\n",
              "      <td>74.0</td>\n",
              "      <td>5.0</td>\n",
              "      <td>40.0</td>\n",
              "      <td>2.7</td>\n",
              "      <td>1321.0</td>\n",
              "    </tr>\n",
              "    <tr>\n",
              "      <th>1</th>\n",
              "      <td>2</td>\n",
              "      <td>2</td>\n",
              "      <td>1</td>\n",
              "      <td>1</td>\n",
              "      <td>0</td>\n",
              "      <td>0</td>\n",
              "      <td>1</td>\n",
              "      <td>1</td>\n",
              "      <td>2</td>\n",
              "      <td>1</td>\n",
              "      <td>...</td>\n",
              "      <td>9</td>\n",
              "      <td>63.0</td>\n",
              "      <td>114.0</td>\n",
              "      <td>70.0</td>\n",
              "      <td>85.0</td>\n",
              "      <td>123.0</td>\n",
              "      <td>7.7</td>\n",
              "      <td>60.0</td>\n",
              "      <td>3.8</td>\n",
              "      <td>879.0</td>\n",
              "    </tr>\n",
              "    <tr>\n",
              "      <th>2</th>\n",
              "      <td>3</td>\n",
              "      <td>3</td>\n",
              "      <td>1</td>\n",
              "      <td>1</td>\n",
              "      <td>0</td>\n",
              "      <td>0</td>\n",
              "      <td>0</td>\n",
              "      <td>2</td>\n",
              "      <td>1</td>\n",
              "      <td>0</td>\n",
              "      <td>...</td>\n",
              "      <td>0</td>\n",
              "      <td>64.0</td>\n",
              "      <td>120.0</td>\n",
              "      <td>80.0</td>\n",
              "      <td>93.0</td>\n",
              "      <td>106.0</td>\n",
              "      <td>6.8</td>\n",
              "      <td>55.0</td>\n",
              "      <td>3.5</td>\n",
              "      <td>1098.0</td>\n",
              "    </tr>\n",
              "    <tr>\n",
              "      <th>3</th>\n",
              "      <td>4</td>\n",
              "      <td>4</td>\n",
              "      <td>2</td>\n",
              "      <td>2</td>\n",
              "      <td>0</td>\n",
              "      <td>0</td>\n",
              "      <td>0</td>\n",
              "      <td>2</td>\n",
              "      <td>0</td>\n",
              "      <td>0</td>\n",
              "      <td>...</td>\n",
              "      <td>0</td>\n",
              "      <td>56.0</td>\n",
              "      <td>124.0</td>\n",
              "      <td>90.0</td>\n",
              "      <td>101.0</td>\n",
              "      <td>90.0</td>\n",
              "      <td>5.1</td>\n",
              "      <td>43.0</td>\n",
              "      <td>2.4</td>\n",
              "      <td>1600.0</td>\n",
              "    </tr>\n",
              "    <tr>\n",
              "      <th>4</th>\n",
              "      <td>5</td>\n",
              "      <td>5</td>\n",
              "      <td>1</td>\n",
              "      <td>1</td>\n",
              "      <td>0</td>\n",
              "      <td>0</td>\n",
              "      <td>2</td>\n",
              "      <td>2</td>\n",
              "      <td>1</td>\n",
              "      <td>0</td>\n",
              "      <td>...</td>\n",
              "      <td>0</td>\n",
              "      <td>66.0</td>\n",
              "      <td>116.0</td>\n",
              "      <td>78.0</td>\n",
              "      <td>90.0</td>\n",
              "      <td>90.0</td>\n",
              "      <td>5.9</td>\n",
              "      <td>45.0</td>\n",
              "      <td>2.2</td>\n",
              "      <td>1228.0</td>\n",
              "    </tr>\n",
              "  </tbody>\n",
              "</table>\n",
              "<p>5 rows × 121 columns</p>\n",
              "</div>\n",
              "      <button class=\"colab-df-convert\" onclick=\"convertToInteractive('df-2a17dc4e-3bc6-4491-be06-94739547ea7b')\"\n",
              "              title=\"Convert this dataframe to an interactive table.\"\n",
              "              style=\"display:none;\">\n",
              "        \n",
              "  <svg xmlns=\"http://www.w3.org/2000/svg\" height=\"24px\"viewBox=\"0 0 24 24\"\n",
              "       width=\"24px\">\n",
              "    <path d=\"M0 0h24v24H0V0z\" fill=\"none\"/>\n",
              "    <path d=\"M18.56 5.44l.94 2.06.94-2.06 2.06-.94-2.06-.94-.94-2.06-.94 2.06-2.06.94zm-11 1L8.5 8.5l.94-2.06 2.06-.94-2.06-.94L8.5 2.5l-.94 2.06-2.06.94zm10 10l.94 2.06.94-2.06 2.06-.94-2.06-.94-.94-2.06-.94 2.06-2.06.94z\"/><path d=\"M17.41 7.96l-1.37-1.37c-.4-.4-.92-.59-1.43-.59-.52 0-1.04.2-1.43.59L10.3 9.45l-7.72 7.72c-.78.78-.78 2.05 0 2.83L4 21.41c.39.39.9.59 1.41.59.51 0 1.02-.2 1.41-.59l7.78-7.78 2.81-2.81c.8-.78.8-2.07 0-2.86zM5.41 20L4 18.59l7.72-7.72 1.47 1.35L5.41 20z\"/>\n",
              "  </svg>\n",
              "      </button>\n",
              "      \n",
              "  <style>\n",
              "    .colab-df-container {\n",
              "      display:flex;\n",
              "      flex-wrap:wrap;\n",
              "      gap: 12px;\n",
              "    }\n",
              "\n",
              "    .colab-df-convert {\n",
              "      background-color: #E8F0FE;\n",
              "      border: none;\n",
              "      border-radius: 50%;\n",
              "      cursor: pointer;\n",
              "      display: none;\n",
              "      fill: #1967D2;\n",
              "      height: 32px;\n",
              "      padding: 0 0 0 0;\n",
              "      width: 32px;\n",
              "    }\n",
              "\n",
              "    .colab-df-convert:hover {\n",
              "      background-color: #E2EBFA;\n",
              "      box-shadow: 0px 1px 2px rgba(60, 64, 67, 0.3), 0px 1px 3px 1px rgba(60, 64, 67, 0.15);\n",
              "      fill: #174EA6;\n",
              "    }\n",
              "\n",
              "    [theme=dark] .colab-df-convert {\n",
              "      background-color: #3B4455;\n",
              "      fill: #D2E3FC;\n",
              "    }\n",
              "\n",
              "    [theme=dark] .colab-df-convert:hover {\n",
              "      background-color: #434B5C;\n",
              "      box-shadow: 0px 1px 3px 1px rgba(0, 0, 0, 0.15);\n",
              "      filter: drop-shadow(0px 1px 2px rgba(0, 0, 0, 0.3));\n",
              "      fill: #FFFFFF;\n",
              "    }\n",
              "  </style>\n",
              "\n",
              "      <script>\n",
              "        const buttonEl =\n",
              "          document.querySelector('#df-2a17dc4e-3bc6-4491-be06-94739547ea7b button.colab-df-convert');\n",
              "        buttonEl.style.display =\n",
              "          google.colab.kernel.accessAllowed ? 'block' : 'none';\n",
              "\n",
              "        async function convertToInteractive(key) {\n",
              "          const element = document.querySelector('#df-2a17dc4e-3bc6-4491-be06-94739547ea7b');\n",
              "          const dataTable =\n",
              "            await google.colab.kernel.invokeFunction('convertToInteractive',\n",
              "                                                     [key], {});\n",
              "          if (!dataTable) return;\n",
              "\n",
              "          const docLinkHtml = 'Like what you see? Visit the ' +\n",
              "            '<a target=\"_blank\" href=https://colab.research.google.com/notebooks/data_table.ipynb>data table notebook</a>'\n",
              "            + ' to learn more about interactive tables.';\n",
              "          element.innerHTML = '';\n",
              "          dataTable['output_type'] = 'display_data';\n",
              "          await google.colab.output.renderOutput(dataTable, element);\n",
              "          const docLink = document.createElement('div');\n",
              "          docLink.innerHTML = docLinkHtml;\n",
              "          element.appendChild(docLink);\n",
              "        }\n",
              "      </script>\n",
              "    </div>\n",
              "  </div>\n",
              "  "
            ]
          },
          "metadata": {},
          "execution_count": 40
        }
      ]
    },
    {
      "cell_type": "code",
      "source": [
        "df.columns = [col.replace('.','_') for col in df.columns]\n",
        "df.columns"
      ],
      "metadata": {
        "colab": {
          "base_uri": "https://localhost:8080/"
        },
        "id": "jtVRMK7veJDs",
        "outputId": "b1828f8f-4de0-44f3-b188-6f382adb2be8"
      },
      "execution_count": 41,
      "outputs": [
        {
          "output_type": "execute_result",
          "data": {
            "text/plain": [
              "Index(['Unnamed: 0', 'X_1', 'depressed_mood_1', 'anxiety_1',\n",
              "       'suspiciousness_1', 'irritability_1', 'craving_to_alcohol_1',\n",
              "       'weakness_1', 'insomia_1', 'headache_1',\n",
              "       ...\n",
              "       'combined2_9', 'HR_9', 'SBP_9', 'DBP_9', 'MBP_9', 'SV_9', 'CO_9',\n",
              "       'SI_9', 'CI_9', 'TPR_9'],\n",
              "      dtype='object', length=121)"
            ]
          },
          "metadata": {},
          "execution_count": 41
        }
      ]
    },
    {
      "cell_type": "markdown",
      "source": [
        "Численные признаки:"
      ],
      "metadata": {
        "id": "J46rlvzgG26D"
      }
    },
    {
      "cell_type": "code",
      "source": [
        "df.columns[df.nunique() > 5]"
      ],
      "metadata": {
        "colab": {
          "base_uri": "https://localhost:8080/"
        },
        "id": "WYkp89b4ci6W",
        "outputId": "72bb0c2c-5d15-4996-e47a-2b9400a1d154"
      },
      "execution_count": 42,
      "outputs": [
        {
          "output_type": "execute_result",
          "data": {
            "text/plain": [
              "Index(['Unnamed: 0', 'X_1', 'combined1_1', 'combined2_1', 'HR_1', 'SBP_1',\n",
              "       'DBP_1', 'MBP_1', 'SV_1', 'CO_1', 'SI_1', 'CI_1', 'TPR_1', 'X_2',\n",
              "       'combined1_2', 'combined2_2', 'HR_2', 'SBP_2', 'MBP_2', 'DBP_2', 'SV_2',\n",
              "       'CO_2', 'SI_2', 'CI_2', 'TPR_2', 'X_3', 'combined1_3', 'combined2_3',\n",
              "       'HR_3', 'SBP_3', 'DBP_3', 'MBP_3', 'SV_3', 'CO_3', 'SI_3', 'CI_3',\n",
              "       'TPR_3', 'X_9', 'HR_9', 'SBP_9', 'DBP_9', 'MBP_9', 'SV_9', 'CO_9',\n",
              "       'SI_9', 'CI_9', 'TPR_9'],\n",
              "      dtype='object')"
            ]
          },
          "metadata": {},
          "execution_count": 42
        }
      ]
    },
    {
      "cell_type": "markdown",
      "source": [
        "Категориальные признаки:"
      ],
      "metadata": {
        "id": "A8ygUqaeGt3k"
      }
    },
    {
      "cell_type": "code",
      "source": [
        "df.columns[(df.nunique() > 2) & (df.nunique() < 5)]"
      ],
      "metadata": {
        "colab": {
          "base_uri": "https://localhost:8080/"
        },
        "id": "DTt8ryp8bWPR",
        "outputId": "181bbc57-6b59-4e1d-c56a-f38cce72f84e"
      },
      "execution_count": 43,
      "outputs": [
        {
          "output_type": "execute_result",
          "data": {
            "text/plain": [
              "Index(['anxiety_1', 'irritability_1', 'craving_to_alcohol_1', 'weakness_1',\n",
              "       'insomia_1', 'headache_1', 'tremor_1', 'sweating_1',\n",
              "       'transient_hallusinations_1', 'vomiting_1', 'anoreksia_1', 'thirst_1',\n",
              "       'chest_pain_1', 'hyperemia_1', 'depressed_mood_2',\n",
              "       'craving_to_alcohol_2', 'weakness_2', 'insomia_2', 'headache_2',\n",
              "       'tremor_2', 'sweating_2', 'anoreksia_2', 'thirst_2', 'weakness_3',\n",
              "       'insomia_3', 'tremor_3', 'sweating_3', 'thirst_3', 'combined1_9',\n",
              "       'combined2_9'],\n",
              "      dtype='object')"
            ]
          },
          "metadata": {},
          "execution_count": 43
        }
      ]
    },
    {
      "cell_type": "markdown",
      "source": [
        "# Непараметрические критерии\n",
        "\n",
        "### 1. Однофакторный дисперсионный анализ (ANOVA)"
      ],
      "metadata": {
        "id": "QWpbFEZDi4th"
      }
    },
    {
      "cell_type": "markdown",
      "source": [
        "Проверим однородность признака combined2 в зависимости от уровня тревожности в 1 день."
      ],
      "metadata": {
        "id": "uO6A1ZsqU03v"
      }
    },
    {
      "cell_type": "code",
      "source": [
        "import statsmodels.api as sm\n",
        "from statsmodels.formula.api import ols\n",
        "\n",
        "model = ols('combined2_1 ~ C(anxiety_1)', data=df).fit()\n",
        "aov_table = sm.stats.anova_lm(model)\n",
        "aov_table"
      ],
      "metadata": {
        "colab": {
          "base_uri": "https://localhost:8080/",
          "height": 112
        },
        "id": "fK2zDvjOcMe5",
        "outputId": "90221c9a-f72d-4ef2-ec9a-d1b1862829ce"
      },
      "execution_count": 44,
      "outputs": [
        {
          "output_type": "execute_result",
          "data": {
            "text/plain": [
              "                df     sum_sq    mean_sq         F    PR(>F)\n",
              "C(anxiety_1)   2.0  31.151176  15.575588  5.377472  0.009889\n",
              "Residual      31.0  89.790000   2.896452       NaN       NaN"
            ],
            "text/html": [
              "\n",
              "  <div id=\"df-d378b2a7-75f0-41b9-961e-299cbefcba31\">\n",
              "    <div class=\"colab-df-container\">\n",
              "      <div>\n",
              "<style scoped>\n",
              "    .dataframe tbody tr th:only-of-type {\n",
              "        vertical-align: middle;\n",
              "    }\n",
              "\n",
              "    .dataframe tbody tr th {\n",
              "        vertical-align: top;\n",
              "    }\n",
              "\n",
              "    .dataframe thead th {\n",
              "        text-align: right;\n",
              "    }\n",
              "</style>\n",
              "<table border=\"1\" class=\"dataframe\">\n",
              "  <thead>\n",
              "    <tr style=\"text-align: right;\">\n",
              "      <th></th>\n",
              "      <th>df</th>\n",
              "      <th>sum_sq</th>\n",
              "      <th>mean_sq</th>\n",
              "      <th>F</th>\n",
              "      <th>PR(&gt;F)</th>\n",
              "    </tr>\n",
              "  </thead>\n",
              "  <tbody>\n",
              "    <tr>\n",
              "      <th>C(anxiety_1)</th>\n",
              "      <td>2.0</td>\n",
              "      <td>31.151176</td>\n",
              "      <td>15.575588</td>\n",
              "      <td>5.377472</td>\n",
              "      <td>0.009889</td>\n",
              "    </tr>\n",
              "    <tr>\n",
              "      <th>Residual</th>\n",
              "      <td>31.0</td>\n",
              "      <td>89.790000</td>\n",
              "      <td>2.896452</td>\n",
              "      <td>NaN</td>\n",
              "      <td>NaN</td>\n",
              "    </tr>\n",
              "  </tbody>\n",
              "</table>\n",
              "</div>\n",
              "      <button class=\"colab-df-convert\" onclick=\"convertToInteractive('df-d378b2a7-75f0-41b9-961e-299cbefcba31')\"\n",
              "              title=\"Convert this dataframe to an interactive table.\"\n",
              "              style=\"display:none;\">\n",
              "        \n",
              "  <svg xmlns=\"http://www.w3.org/2000/svg\" height=\"24px\"viewBox=\"0 0 24 24\"\n",
              "       width=\"24px\">\n",
              "    <path d=\"M0 0h24v24H0V0z\" fill=\"none\"/>\n",
              "    <path d=\"M18.56 5.44l.94 2.06.94-2.06 2.06-.94-2.06-.94-.94-2.06-.94 2.06-2.06.94zm-11 1L8.5 8.5l.94-2.06 2.06-.94-2.06-.94L8.5 2.5l-.94 2.06-2.06.94zm10 10l.94 2.06.94-2.06 2.06-.94-2.06-.94-.94-2.06-.94 2.06-2.06.94z\"/><path d=\"M17.41 7.96l-1.37-1.37c-.4-.4-.92-.59-1.43-.59-.52 0-1.04.2-1.43.59L10.3 9.45l-7.72 7.72c-.78.78-.78 2.05 0 2.83L4 21.41c.39.39.9.59 1.41.59.51 0 1.02-.2 1.41-.59l7.78-7.78 2.81-2.81c.8-.78.8-2.07 0-2.86zM5.41 20L4 18.59l7.72-7.72 1.47 1.35L5.41 20z\"/>\n",
              "  </svg>\n",
              "      </button>\n",
              "      \n",
              "  <style>\n",
              "    .colab-df-container {\n",
              "      display:flex;\n",
              "      flex-wrap:wrap;\n",
              "      gap: 12px;\n",
              "    }\n",
              "\n",
              "    .colab-df-convert {\n",
              "      background-color: #E8F0FE;\n",
              "      border: none;\n",
              "      border-radius: 50%;\n",
              "      cursor: pointer;\n",
              "      display: none;\n",
              "      fill: #1967D2;\n",
              "      height: 32px;\n",
              "      padding: 0 0 0 0;\n",
              "      width: 32px;\n",
              "    }\n",
              "\n",
              "    .colab-df-convert:hover {\n",
              "      background-color: #E2EBFA;\n",
              "      box-shadow: 0px 1px 2px rgba(60, 64, 67, 0.3), 0px 1px 3px 1px rgba(60, 64, 67, 0.15);\n",
              "      fill: #174EA6;\n",
              "    }\n",
              "\n",
              "    [theme=dark] .colab-df-convert {\n",
              "      background-color: #3B4455;\n",
              "      fill: #D2E3FC;\n",
              "    }\n",
              "\n",
              "    [theme=dark] .colab-df-convert:hover {\n",
              "      background-color: #434B5C;\n",
              "      box-shadow: 0px 1px 3px 1px rgba(0, 0, 0, 0.15);\n",
              "      filter: drop-shadow(0px 1px 2px rgba(0, 0, 0, 0.3));\n",
              "      fill: #FFFFFF;\n",
              "    }\n",
              "  </style>\n",
              "\n",
              "      <script>\n",
              "        const buttonEl =\n",
              "          document.querySelector('#df-d378b2a7-75f0-41b9-961e-299cbefcba31 button.colab-df-convert');\n",
              "        buttonEl.style.display =\n",
              "          google.colab.kernel.accessAllowed ? 'block' : 'none';\n",
              "\n",
              "        async function convertToInteractive(key) {\n",
              "          const element = document.querySelector('#df-d378b2a7-75f0-41b9-961e-299cbefcba31');\n",
              "          const dataTable =\n",
              "            await google.colab.kernel.invokeFunction('convertToInteractive',\n",
              "                                                     [key], {});\n",
              "          if (!dataTable) return;\n",
              "\n",
              "          const docLinkHtml = 'Like what you see? Visit the ' +\n",
              "            '<a target=\"_blank\" href=https://colab.research.google.com/notebooks/data_table.ipynb>data table notebook</a>'\n",
              "            + ' to learn more about interactive tables.';\n",
              "          element.innerHTML = '';\n",
              "          dataTable['output_type'] = 'display_data';\n",
              "          await google.colab.output.renderOutput(dataTable, element);\n",
              "          const docLink = document.createElement('div');\n",
              "          docLink.innerHTML = docLinkHtml;\n",
              "          element.appendChild(docLink);\n",
              "        }\n",
              "      </script>\n",
              "    </div>\n",
              "  </div>\n",
              "  "
            ]
          },
          "metadata": {},
          "execution_count": 44
        }
      ]
    },
    {
      "cell_type": "markdown",
      "source": [
        "Через пакет scipy:"
      ],
      "metadata": {
        "id": "ODlYNdV0HG-Q"
      }
    },
    {
      "cell_type": "code",
      "source": [
        "st.f_oneway(df['combined2_1'][df['anxiety_1'] == 0],\n",
        "               df['combined2_1'][df['anxiety_1'] == 1],\n",
        "               df['combined2_1'][df['anxiety_1'] == 2])"
      ],
      "metadata": {
        "colab": {
          "base_uri": "https://localhost:8080/"
        },
        "id": "1UdEIxjohIxb",
        "outputId": "03cb8d86-b66f-45b6-9b9e-989c1b6d6834"
      },
      "execution_count": 45,
      "outputs": [
        {
          "output_type": "execute_result",
          "data": {
            "text/plain": [
              "F_onewayResult(statistic=5.3774722719024135, pvalue=0.009888573149631517)"
            ]
          },
          "metadata": {},
          "execution_count": 45
        }
      ]
    },
    {
      "cell_type": "markdown",
      "source": [
        "### 1'. Попарные сравнения. "
      ],
      "metadata": {
        "id": "n7ddwMLATNAB"
      }
    },
    {
      "cell_type": "markdown",
      "source": [
        "В сравнении пар используем поправки Бонферони."
      ],
      "metadata": {
        "id": "G-IV85V3VQWl"
      }
    },
    {
      "cell_type": "code",
      "source": [
        "import statsmodels.stats.multicomp as mc\n",
        "\n",
        "comp1 = mc.MultiComparison(df['combined2_1'], df['anxiety_1'])\n",
        "tbl, a1, a2 = comp1.allpairtest(st.ttest_ind, method= \"bonf\")\n",
        "tbl"
      ],
      "metadata": {
        "colab": {
          "base_uri": "https://localhost:8080/",
          "height": 157
        },
        "id": "i8DCoSuBTVMS",
        "outputId": "aeef0d2d-3d92-46a7-c3a5-d63cd8670daa"
      },
      "execution_count": 46,
      "outputs": [
        {
          "output_type": "execute_result",
          "data": {
            "text/plain": [
              "<class 'statsmodels.iolib.table.SimpleTable'>"
            ],
            "text/html": [
              "<table class=\"simpletable\">\n",
              "<caption>Test Multiple Comparison ttest_ind \n",
              "FWER=0.05 method=bonf\n",
              "alphacSidak=0.02, alphacBonf=0.017</caption>\n",
              "<tr>\n",
              "  <th>group1</th> <th>group2</th>  <th>stat</th>    <th>pval</th>  <th>pval_corr</th> <th>reject</th>\n",
              "</tr>\n",
              "<tr>\n",
              "     <td>0</td>      <td>1</td>   <td>-0.731</td>  <td>0.4709</td>    <td>1.0</td>     <td>False</td>\n",
              "</tr>\n",
              "<tr>\n",
              "     <td>0</td>      <td>2</td>   <td>-1.8331</td> <td>0.1094</td>  <td>0.3283</td>    <td>False</td>\n",
              "</tr>\n",
              "<tr>\n",
              "     <td>1</td>      <td>2</td>   <td>-3.2972</td> <td>0.0027</td>  <td>0.0082</td>    <td>True</td> \n",
              "</tr>\n",
              "</table>"
            ]
          },
          "metadata": {},
          "execution_count": 46
        }
      ]
    },
    {
      "cell_type": "markdown",
      "source": [
        "### 2. Критерий W-Вилкоксона (проверка однородности двух зависимых выборок)"
      ],
      "metadata": {
        "id": "pG_eqJTri6WX"
      }
    },
    {
      "cell_type": "markdown",
      "source": [
        "Проверим частоту сердцебиения в 1 и 2 дни на однородность."
      ],
      "metadata": {
        "id": "cnRrpvQoHZkN"
      }
    },
    {
      "cell_type": "code",
      "source": [
        "st.wilcoxon(df['HR_1'], df['HR_2'])"
      ],
      "metadata": {
        "colab": {
          "base_uri": "https://localhost:8080/"
        },
        "id": "rFqJL1_iimL0",
        "outputId": "c1e9e98d-cfc0-40f9-e366-077afcbc2cc1"
      },
      "execution_count": 47,
      "outputs": [
        {
          "output_type": "execute_result",
          "data": {
            "text/plain": [
              "WilcoxonResult(statistic=174.0, pvalue=0.034666718677733674)"
            ]
          },
          "metadata": {},
          "execution_count": 47
        }
      ]
    },
    {
      "cell_type": "markdown",
      "source": [
        "Pvalue < 0.05. Следовательно, отвергаем нулевую гипотезу. Таким образом, изменение в частоте сердцебиения в 1 и 2 дни стастически значимо."
      ],
      "metadata": {
        "id": "XU6g-6qUr79l"
      }
    },
    {
      "cell_type": "markdown",
      "source": [
        "### 3. Критерий Фридмана (проверка однородности нескольких зависимых выборок)"
      ],
      "metadata": {
        "id": "yDJ7kxuMmzCM"
      }
    },
    {
      "cell_type": "markdown",
      "source": [
        "Проверим на однородность признак SBP в течение 1, 2, 3 и 9 дней."
      ],
      "metadata": {
        "id": "ubH9KBBIJRr9"
      }
    },
    {
      "cell_type": "code",
      "source": [
        "st.friedmanchisquare(df['SBP_1'],df['SBP_2'],df['SBP_3'],df['SBP_9'])"
      ],
      "metadata": {
        "colab": {
          "base_uri": "https://localhost:8080/"
        },
        "id": "C060nrximym4",
        "outputId": "314c9a2d-3d67-467f-f4b0-058fdc16bba6"
      },
      "execution_count": 48,
      "outputs": [
        {
          "output_type": "execute_result",
          "data": {
            "text/plain": [
              "FriedmanchisquareResult(statistic=34.24850299401196, pvalue=1.7557383500586175e-07)"
            ]
          },
          "metadata": {},
          "execution_count": 48
        }
      ]
    },
    {
      "cell_type": "markdown",
      "source": [
        "Pvalue < 0.05. Следовательно, отвергаем нулевую гипотезу. Таким образом, изменение SBP стастически значимо."
      ],
      "metadata": {
        "id": "PcNlcA4cIf2R"
      }
    },
    {
      "cell_type": "markdown",
      "source": [
        "### 4. Критерий Краскела-Уоллиса (проверка однородности нескольких независимых выборок)"
      ],
      "metadata": {
        "id": "Z4yGzWuInxGs"
      }
    },
    {
      "cell_type": "markdown",
      "source": [
        "Проверим на однородность независимые признаки SBP, DBP, MBP в 1 день."
      ],
      "metadata": {
        "id": "r7EvxOMXJ5Qa"
      }
    },
    {
      "cell_type": "code",
      "source": [
        "st.kruskal(df['SBP_1'],df['DBP_1'], df['MBP_1'], nan_policy='omit')"
      ],
      "metadata": {
        "colab": {
          "base_uri": "https://localhost:8080/"
        },
        "id": "E7JacJWmnwef",
        "outputId": "c88a3330-7824-4086-ff2f-c05902e962b5"
      },
      "execution_count": 49,
      "outputs": [
        {
          "output_type": "execute_result",
          "data": {
            "text/plain": [
              "KruskalResult(statistic=74.4921277011509, pvalue=6.671753576011461e-17)"
            ]
          },
          "metadata": {},
          "execution_count": 49
        }
      ]
    },
    {
      "cell_type": "markdown",
      "source": [
        "Pvalue < 0.05. Следовательно, отвергаем нулевую гипотезу. Таким образом, различие между распределениями SBP, DBP, MBP в 1 день стастически значимо."
      ],
      "metadata": {
        "id": "du8VZou3KF8X"
      }
    },
    {
      "cell_type": "markdown",
      "source": [
        "### 5. Медианный критерий (проверка однородности нескольких независимых выборок)"
      ],
      "metadata": {
        "id": "dSetCjI9pZoT"
      }
    },
    {
      "cell_type": "markdown",
      "source": [
        "Проверим на однородность независимые признаки SBP, DBP, MBP в 2 день."
      ],
      "metadata": {
        "id": "HAz06tTeKYOQ"
      }
    },
    {
      "cell_type": "code",
      "source": [
        "_, p_value, M, table = st.median_test(df['SBP_2'], df['DBP_2'], df['MBP_2'], nan_policy='omit')\n",
        "p_value"
      ],
      "metadata": {
        "colab": {
          "base_uri": "https://localhost:8080/"
        },
        "id": "C_pAaOfupdPu",
        "outputId": "23d48735-80f4-4020-c280-7f0db862a2de"
      },
      "execution_count": 50,
      "outputs": [
        {
          "output_type": "execute_result",
          "data": {
            "text/plain": [
              "1.6020731617564657e-13"
            ]
          },
          "metadata": {},
          "execution_count": 50
        }
      ]
    },
    {
      "cell_type": "markdown",
      "source": [
        "Pvalue < 0.05. Следовательно, отвергаем нулевую гипотезу. Таким образом, различие между распределениями SBP, DBP, MBP в 2 день стастически значимо."
      ],
      "metadata": {
        "id": "2DMq7Uh5LQy4"
      }
    },
    {
      "cell_type": "markdown",
      "source": [
        "---"
      ],
      "metadata": {
        "id": "BMzMay1hui1k"
      }
    },
    {
      "cell_type": "markdown",
      "source": [
        "# Линейная регрессия."
      ],
      "metadata": {
        "id": "IbBNyRL4ujpw"
      }
    },
    {
      "cell_type": "markdown",
      "source": [
        "Посмотрим на точечный график зависимости признаков SV и SI в 1 день."
      ],
      "metadata": {
        "id": "0fpmH0esLZgF"
      }
    },
    {
      "cell_type": "code",
      "source": [
        "sns.scatterplot(data = df, x = 'SV_1', y = 'SI_1')"
      ],
      "metadata": {
        "colab": {
          "base_uri": "https://localhost:8080/",
          "height": 297
        },
        "id": "lE0ZdGMevHrS",
        "outputId": "19585f9e-e4c2-458c-ae36-5cd9ae43b6b2"
      },
      "execution_count": 51,
      "outputs": [
        {
          "output_type": "execute_result",
          "data": {
            "text/plain": [
              "<matplotlib.axes._subplots.AxesSubplot at 0x7f508ef1b590>"
            ]
          },
          "metadata": {},
          "execution_count": 51
        },
        {
          "output_type": "display_data",
          "data": {
            "text/plain": [
              "<Figure size 432x288 with 1 Axes>"
            ],
            "image/png": "[encoded data removed]"
          },
          "metadata": {
            "needs_background": "light"
          }
        }
      ]
    },
    {
      "cell_type": "code",
      "source": [
        "x = df['SI_1'].dropna()\n",
        "y = df['CI_1'].dropna()\n",
        "result = st.linregress(x,y)\n",
        "result"
      ],
      "metadata": {
        "colab": {
          "base_uri": "https://localhost:8080/"
        },
        "id": "hFiqcK10uotW",
        "outputId": "b87a9f40-8258-484c-d234-634f189ab8c1"
      },
      "execution_count": 52,
      "outputs": [
        {
          "output_type": "execute_result",
          "data": {
            "text/plain": [
              "LinregressResult(slope=0.05282184104972485, intercept=0.9831179999865634, rvalue=0.8396381039004138, pvalue=1.0132882274169944e-09, stderr=0.006137017156746934, intercept_stderr=0.26150441276806535)"
            ]
          },
          "metadata": {},
          "execution_count": 52
        }
      ]
    },
    {
      "cell_type": "markdown",
      "source": [
        "Коэффициент детерминации:"
      ],
      "metadata": {
        "id": "zcTTRK9wL65h"
      }
    },
    {
      "cell_type": "code",
      "source": [
        "r_squared = result.rvalue ** 2\n",
        "r_squared"
      ],
      "metadata": {
        "colab": {
          "base_uri": "https://localhost:8080/"
        },
        "id": "I5qS4SQXL5-o",
        "outputId": "785d1a3c-57ec-480b-cc92-eccd4bca5069"
      },
      "execution_count": 53,
      "outputs": [
        {
          "output_type": "execute_result",
          "data": {
            "text/plain": [
              "0.7049921455214821"
            ]
          },
          "metadata": {},
          "execution_count": 53
        }
      ]
    },
    {
      "cell_type": "markdown",
      "source": [
        "# Коэффициенты корреляции"
      ],
      "metadata": {
        "id": "w2lludibLmag"
      }
    },
    {
      "cell_type": "markdown",
      "source": [
        "Коэффициент корреляции Пирсона"
      ],
      "metadata": {
        "id": "uP3U6miB_IVf"
      }
    },
    {
      "cell_type": "code",
      "source": [
        "st.pearsonr(x,y)"
      ],
      "metadata": {
        "colab": {
          "base_uri": "https://localhost:8080/"
        },
        "id": "s_M3iFya7BAK",
        "outputId": "e9c2b697-616e-4ea9-f297-f0ceda3168ef"
      },
      "execution_count": 54,
      "outputs": [
        {
          "output_type": "execute_result",
          "data": {
            "text/plain": [
              "(0.8396381039004139, 1.0132882274169876e-09)"
            ]
          },
          "metadata": {},
          "execution_count": 54
        }
      ]
    },
    {
      "cell_type": "markdown",
      "source": [
        "Ранговый коэффициент корреляции Кенделла"
      ],
      "metadata": {
        "id": "pGqhF98s_PVM"
      }
    },
    {
      "cell_type": "code",
      "source": [
        "st.kendalltau(x,y)"
      ],
      "metadata": {
        "colab": {
          "base_uri": "https://localhost:8080/"
        },
        "id": "DeNd0d3I7SJO",
        "outputId": "825fc738-7f57-4198-bd77-1c49697ce47d"
      },
      "execution_count": 55,
      "outputs": [
        {
          "output_type": "execute_result",
          "data": {
            "text/plain": [
              "KendalltauResult(correlation=0.6595952922185062, pvalue=1.0819766571177962e-07)"
            ]
          },
          "metadata": {},
          "execution_count": 55
        }
      ]
    },
    {
      "cell_type": "markdown",
      "source": [
        "Ранговый коэффициент корреляции Спирмена"
      ],
      "metadata": {
        "id": "khUpEb4w_RCP"
      }
    },
    {
      "cell_type": "code",
      "source": [
        "st.spearmanr(x,y)"
      ],
      "metadata": {
        "colab": {
          "base_uri": "https://localhost:8080/"
        },
        "id": "bO2T0QVF74dT",
        "outputId": "7610b0f8-2a9f-4e13-f760-770f34cd43d9"
      },
      "execution_count": 56,
      "outputs": [
        {
          "output_type": "execute_result",
          "data": {
            "text/plain": [
              "SpearmanrResult(correlation=0.8391093370570679, pvalue=1.0622063978902586e-09)"
            ]
          },
          "metadata": {},
          "execution_count": 56
        }
      ]
    }
  ]
}